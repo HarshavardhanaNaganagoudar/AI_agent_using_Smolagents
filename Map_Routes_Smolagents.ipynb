{
  "nbformat": 4,
  "nbformat_minor": 0,
  "metadata": {
    "colab": {
      "provenance": []
    },
    "kernelspec": {
      "name": "python3",
      "display_name": "Python 3"
    },
    "language_info": {
      "name": "python"
    }
  },
  "cells": [
    {
      "cell_type": "markdown",
      "source": [
        "* **Goal**: To built an AI agent using smolagents framework.\n",
        "* **Agenda of this project**: To built an AI agent that searches top resturants which are nearby based on the users location and choice of cuisne. Then it generates the map and plots the routes to from user location to the fetched destinations."
      ],
      "metadata": {
        "id": "5mV1FPF3lwuC"
      }
    },
    {
      "cell_type": "markdown",
      "source": [
        "**Install required packages**"
      ],
      "metadata": {
        "id": "dU4NnCHGpYbs"
      }
    },
    {
      "cell_type": "code",
      "execution_count": 1,
      "metadata": {
        "colab": {
          "base_uri": "https://localhost:8080/"
        },
        "id": "iMvjVIK-geNr",
        "outputId": "eb0ec7ac-a72c-4caf-d541-17bf9d83e02b"
      },
      "outputs": [
        {
          "output_type": "stream",
          "name": "stdout",
          "text": [
            "\u001b[2K     \u001b[90m━━━━━━━━━━━━━━━━━━━━━━━━━━━━━━━━━━━━━━━━\u001b[0m \u001b[32m89.9/89.9 kB\u001b[0m \u001b[31m3.2 MB/s\u001b[0m eta \u001b[36m0:00:00\u001b[0m\n",
            "\u001b[2K   \u001b[90m━━━━━━━━━━━━━━━━━━━━━━━━━━━━━━━━━━━━━━━━\u001b[0m \u001b[32m101.8/101.8 kB\u001b[0m \u001b[31m5.0 MB/s\u001b[0m eta \u001b[36m0:00:00\u001b[0m\n",
            "\u001b[2K   \u001b[90m━━━━━━━━━━━━━━━━━━━━━━━━━━━━━━━━━━━━━━━━\u001b[0m \u001b[32m485.4/485.4 kB\u001b[0m \u001b[31m16.2 MB/s\u001b[0m eta \u001b[36m0:00:00\u001b[0m\n",
            "\u001b[2K   \u001b[90m━━━━━━━━━━━━━━━━━━━━━━━━━━━━━━━━━━━━━━━━\u001b[0m \u001b[32m30.7/30.7 MB\u001b[0m \u001b[31m44.8 MB/s\u001b[0m eta \u001b[36m0:00:00\u001b[0m\n",
            "\u001b[2K   \u001b[90m━━━━━━━━━━━━━━━━━━━━━━━━━━━━━━━━━━━━━━━━\u001b[0m \u001b[32m472.8/472.8 kB\u001b[0m \u001b[31m23.4 MB/s\u001b[0m eta \u001b[36m0:00:00\u001b[0m\n",
            "\u001b[2K   \u001b[90m━━━━━━━━━━━━━━━━━━━━━━━━━━━━━━━━━━━━━━━━\u001b[0m \u001b[32m2.5/2.5 MB\u001b[0m \u001b[31m56.0 MB/s\u001b[0m eta \u001b[36m0:00:00\u001b[0m\n",
            "\u001b[2K   \u001b[90m━━━━━━━━━━━━━━━━━━━━━━━━━━━━━━━━━━━━━━━━\u001b[0m \u001b[32m116.3/116.3 kB\u001b[0m \u001b[31m6.4 MB/s\u001b[0m eta \u001b[36m0:00:00\u001b[0m\n",
            "\u001b[2K   \u001b[90m━━━━━━━━━━━━━━━━━━━━━━━━━━━━━━━━━━━━━━━━\u001b[0m \u001b[32m143.5/143.5 kB\u001b[0m \u001b[31m9.6 MB/s\u001b[0m eta \u001b[36m0:00:00\u001b[0m\n",
            "\u001b[2K   \u001b[90m━━━━━━━━━━━━━━━━━━━━━━━━━━━━━━━━━━━━━━━━\u001b[0m \u001b[32m13.1/13.1 MB\u001b[0m \u001b[31m57.9 MB/s\u001b[0m eta \u001b[36m0:00:00\u001b[0m\n",
            "\u001b[2K   \u001b[90m━━━━━━━━━━━━━━━━━━━━━━━━━━━━━━━━━━━━━━━━\u001b[0m \u001b[32m3.3/3.3 MB\u001b[0m \u001b[31m71.9 MB/s\u001b[0m eta \u001b[36m0:00:00\u001b[0m\n",
            "\u001b[2K   \u001b[90m━━━━━━━━━━━━━━━━━━━━━━━━━━━━━━━━━━━━━━━━\u001b[0m \u001b[32m363.4/363.4 MB\u001b[0m \u001b[31m4.0 MB/s\u001b[0m eta \u001b[36m0:00:00\u001b[0m\n",
            "\u001b[2K   \u001b[90m━━━━━━━━━━━━━━━━━━━━━━━━━━━━━━━━━━━━━━━━\u001b[0m \u001b[32m13.8/13.8 MB\u001b[0m \u001b[31m59.8 MB/s\u001b[0m eta \u001b[36m0:00:00\u001b[0m\n",
            "\u001b[2K   \u001b[90m━━━━━━━━━━━━━━━━━━━━━━━━━━━━━━━━━━━━━━━━\u001b[0m \u001b[32m24.6/24.6 MB\u001b[0m \u001b[31m47.3 MB/s\u001b[0m eta \u001b[36m0:00:00\u001b[0m\n",
            "\u001b[2K   \u001b[90m━━━━━━━━━━━━━━━━━━━━━━━━━━━━━━━━━━━━━━━━\u001b[0m \u001b[32m883.7/883.7 kB\u001b[0m \u001b[31m29.7 MB/s\u001b[0m eta \u001b[36m0:00:00\u001b[0m\n",
            "\u001b[2K   \u001b[90m━━━━━━━━━━━━━━━━━━━━━━━━━━━━━━━━━━━━━━━━\u001b[0m \u001b[32m664.8/664.8 MB\u001b[0m \u001b[31m1.9 MB/s\u001b[0m eta \u001b[36m0:00:00\u001b[0m\n",
            "\u001b[2K   \u001b[90m━━━━━━━━━━━━━━━━━━━━━━━━━━━━━━━━━━━━━━━━\u001b[0m \u001b[32m211.5/211.5 MB\u001b[0m \u001b[31m5.4 MB/s\u001b[0m eta \u001b[36m0:00:00\u001b[0m\n",
            "\u001b[2K   \u001b[90m━━━━━━━━━━━━━━━━━━━━━━━━━━━━━━━━━━━━━━━━\u001b[0m \u001b[32m56.3/56.3 MB\u001b[0m \u001b[31m12.1 MB/s\u001b[0m eta \u001b[36m0:00:00\u001b[0m\n",
            "\u001b[2K   \u001b[90m━━━━━━━━━━━━━━━━━━━━━━━━━━━━━━━━━━━━━━━━\u001b[0m \u001b[32m127.9/127.9 MB\u001b[0m \u001b[31m7.2 MB/s\u001b[0m eta \u001b[36m0:00:00\u001b[0m\n",
            "\u001b[2K   \u001b[90m━━━━━━━━━━━━━━━━━━━━━━━━━━━━━━━━━━━━━━━━\u001b[0m \u001b[32m207.5/207.5 MB\u001b[0m \u001b[31m6.3 MB/s\u001b[0m eta \u001b[36m0:00:00\u001b[0m\n",
            "\u001b[2K   \u001b[90m━━━━━━━━━━━━━━━━━━━━━━━━━━━━━━━━━━━━━━━━\u001b[0m \u001b[32m21.1/21.1 MB\u001b[0m \u001b[31m80.1 MB/s\u001b[0m eta \u001b[36m0:00:00\u001b[0m\n",
            "\u001b[2K   \u001b[90m━━━━━━━━━━━━━━━━━━━━━━━━━━━━━━━━━━━━━━━━\u001b[0m \u001b[32m194.8/194.8 kB\u001b[0m \u001b[31m11.5 MB/s\u001b[0m eta \u001b[36m0:00:00\u001b[0m\n",
            "\u001b[2K   \u001b[90m━━━━━━━━━━━━━━━━━━━━━━━━━━━━━━━━━━━━━━━━\u001b[0m \u001b[32m50.9/50.9 kB\u001b[0m \u001b[31m3.2 MB/s\u001b[0m eta \u001b[36m0:00:00\u001b[0m\n",
            "\u001b[?25h\u001b[31mERROR: pip's dependency resolver does not currently take into account all the packages that are installed. This behaviour is the source of the following dependency conflicts.\n",
            "google-colab 1.0.0 requires pandas==2.2.2, but you have pandas 2.2.3 which is incompatible.\u001b[0m\u001b[31m\n",
            "\u001b[0m"
          ]
        }
      ],
      "source": [
        "!pip install geopy smolagents datasets langchain sentence-transformers faiss-cpu duckduckgo-search openai langchain-community --upgrade -q\n"
      ]
    },
    {
      "cell_type": "code",
      "source": [
        "!pip install openrouteservice"
      ],
      "metadata": {
        "colab": {
          "base_uri": "https://localhost:8080/"
        },
        "id": "rlkdGMdcgokN",
        "outputId": "02bb2c7d-b68a-48e5-88e3-80d648202023"
      },
      "execution_count": 2,
      "outputs": [
        {
          "output_type": "stream",
          "name": "stdout",
          "text": [
            "Collecting openrouteservice\n",
            "  Downloading openrouteservice-2.3.3-py3-none-any.whl.metadata (9.2 kB)\n",
            "Requirement already satisfied: requests>=2.0 in /usr/local/lib/python3.11/dist-packages (from openrouteservice) (2.32.3)\n",
            "Requirement already satisfied: charset-normalizer<4,>=2 in /usr/local/lib/python3.11/dist-packages (from requests>=2.0->openrouteservice) (3.4.1)\n",
            "Requirement already satisfied: idna<4,>=2.5 in /usr/local/lib/python3.11/dist-packages (from requests>=2.0->openrouteservice) (3.10)\n",
            "Requirement already satisfied: urllib3<3,>=1.21.1 in /usr/local/lib/python3.11/dist-packages (from requests>=2.0->openrouteservice) (2.3.0)\n",
            "Requirement already satisfied: certifi>=2017.4.17 in /usr/local/lib/python3.11/dist-packages (from requests>=2.0->openrouteservice) (2025.1.31)\n",
            "Downloading openrouteservice-2.3.3-py3-none-any.whl (33 kB)\n",
            "Installing collected packages: openrouteservice\n",
            "Successfully installed openrouteservice-2.3.3\n"
          ]
        }
      ]
    },
    {
      "cell_type": "markdown",
      "source": [
        "**Import packages**"
      ],
      "metadata": {
        "id": "--XHPPfgpe2q"
      }
    },
    {
      "cell_type": "code",
      "source": [
        "from typing import Optional\n",
        "from smolagents import CodeAgent, HfApiModel, tool, DuckDuckGoSearchTool\n",
        "import folium\n",
        "import openrouteservice\n",
        "from geopy.geocoders import Nominatim\n",
        "from geopy.extra.rate_limiter import RateLimiter\n",
        "import requests\n",
        "import time"
      ],
      "metadata": {
        "id": "zGR8dBEOgonb"
      },
      "execution_count": 3,
      "outputs": []
    },
    {
      "cell_type": "markdown",
      "source": [
        "**Login to HuggingFace**"
      ],
      "metadata": {
        "id": "DVNryvoYqNHE"
      }
    },
    {
      "cell_type": "code",
      "source": [
        "from huggingface_hub import login\n",
        "\n",
        "# Use your API token here\n",
        "login(\"hf_token\")"
      ],
      "metadata": {
        "id": "WjZotrlyh0jE"
      },
      "execution_count": 5,
      "outputs": []
    },
    {
      "cell_type": "markdown",
      "source": [
        "**Building AI agents that use code**\n",
        "* I will be using codeagent template to define the tools.\n",
        "*   Using open street map with folium for maps\n",
        "*   Open route service for plotting the routes\n",
        "\n"
      ],
      "metadata": {
        "id": "npsmFraUqZp4"
      }
    },
    {
      "cell_type": "code",
      "source": [
        "# Your OpenRouteService API key\n",
        "ORS_API_KEY = 'ORS_API_KEY'\n",
        "\n",
        "client = openrouteservice.Client(key=ORS_API_KEY)\n",
        "\n",
        "# Function to perform DuckDuckGo search\n",
        "def duckduckgo_search(query: str) -> list:\n",
        "    print(f\"Performing DuckDuckGo search for query: {query}\")\n",
        "    response = requests.get(\"https://api.duckduckgo.com/\", params={\n",
        "        \"q\": query,\n",
        "        \"format\": \"json\",\n",
        "        \"no_redirect\": 1,\n",
        "        \"no_html\": 1,\n",
        "        \"skip_disambig\": 1\n",
        "    })\n",
        "    print(f\"Received response: {response.status_code}\")\n",
        "    results = response.json().get(\"RelatedTopics\", [])\n",
        "    print(f\"Search results: {results}\")\n",
        "    return results[:5]\n",
        "\n",
        "@tool\n",
        "def fetch_restaurants(location: str, cuisine: str) -> list:\n",
        "    \"\"\"Fetches the top 5 famous restaurants of a specific cuisine near the given location using DuckDuckGo search.\n",
        "\n",
        "    Args:\n",
        "        location: The location to search for restaurants.\n",
        "        cuisine: The type of cuisine to search for.\n",
        "\n",
        "    Returns:\n",
        "        list: A list of dictionaries containing the restaurant names and locations.\n",
        "    \"\"\"\n",
        "    search_query = f\"top 5 {cuisine} restaurants near {location}\"\n",
        "    print(f\"Fetching restaurants with query: {search_query}\")\n",
        "    search_results = duckduckgo_search(search_query)\n",
        "\n",
        "    restaurants = []\n",
        "    for result in search_results:\n",
        "        title = result['Text']\n",
        "        snippet = result.get('FirstURL', 'No address available')\n",
        "        restaurants.append({\"name\": title, \"location\": snippet})\n",
        "    print(f\"Fetched restaurants: {restaurants}\")\n",
        "    return restaurants\n",
        "\n",
        "@tool\n",
        "def create_map(location: str, cuisine: str, restaurants: list) -> str:\n",
        "    \"\"\"Creates a map with routes to the top 5 famous restaurants of a specific cuisine near the given location.\n",
        "\n",
        "    Args:\n",
        "        location: The location to search for restaurants.\n",
        "        cuisine: The type of cuisine to search for.\n",
        "        restaurants: A list of dictionaries containing the restaurant names and locations.\n",
        "\n",
        "    Returns:\n",
        "        str: The HTML representation of the map.\n",
        "    \"\"\"\n",
        "    print(f\"Creating map for location: {location} with cuisine: {cuisine}\")\n",
        "    print(f\"Restaurants data: {restaurants}\")\n",
        "\n",
        "    # Initialize the map centered on the given location\n",
        "    geolocator = Nominatim(user_agent=\"myGeocoder\", timeout=10)\n",
        "    geocode = RateLimiter(geolocator.geocode, min_delay_seconds=1)\n",
        "\n",
        "    location_coords = None\n",
        "    retries = 3\n",
        "    for _ in range(retries):\n",
        "        try:\n",
        "            location_coords = geocode(location)\n",
        "            if location_coords:\n",
        "                break\n",
        "        except Exception as e:\n",
        "            print(f\"Geocoding error for location {location}: {e}\")\n",
        "            time.sleep(2)\n",
        "\n",
        "    if not location_coords:\n",
        "        print(\"Failed to geocode the location.\")\n",
        "        return \"Failed to geocode the location.\"\n",
        "\n",
        "    m = folium.Map(location=[location_coords.latitude, location_coords.longitude], zoom_start=15)\n",
        "\n",
        "    # Add a marker for the given location\n",
        "    folium.Marker([location_coords.latitude, location_coords.longitude], tooltip=location, icon=folium.Icon(color='red')).add_to(m)\n",
        "\n",
        "    # Add markers for the top 5 famous restaurants and plot routes\n",
        "    for restaurant in restaurants:\n",
        "        restaurant_coords = None\n",
        "        for _ in range(retries):\n",
        "            try:\n",
        "                restaurant_coords = geocode(restaurant[\"location\"])\n",
        "                if restaurant_coords:\n",
        "                    break\n",
        "            except Exception as e:\n",
        "                print(f\"Geocoding error for restaurant {restaurant['name']}: {e}\")\n",
        "                time.sleep(2)\n",
        "\n",
        "        if not restaurant_coords:\n",
        "            print(f\"Failed to geocode restaurant: {restaurant['name']}\")\n",
        "            continue\n",
        "\n",
        "        folium.Marker([restaurant_coords.latitude, restaurant_coords.longitude], tooltip=restaurant[\"name\"], icon=folium.Icon(color='blue')).add_to(m)\n",
        "\n",
        "        # Get the route from the given location to the restaurant\n",
        "        coords = [[location_coords.longitude, location_coords.latitude], [restaurant_coords.longitude, restaurant_coords.latitude]]\n",
        "        try:\n",
        "            route = client.directions(coordinates=coords, profile='foot-walking', format='geojson')\n",
        "            folium.GeoJson(route['features'][0]['geometry']).add_to(m)\n",
        "        except KeyError:\n",
        "            print(f\"Error: No route found for {restaurant['name']}. Response: {route}\")\n",
        "\n",
        "    # Save the map to an HTML string\n",
        "    map_html = m._repr_html_()\n",
        "    with open(\"map.html\", \"w\") as file:\n",
        "        file.write(map_html)\n",
        "\n",
        "    print(\"Map saved to map.html\")\n",
        "    return \"Map saved to map.html\"\n",
        "\n",
        "agent = CodeAgent(tools=[DuckDuckGoSearchTool(), fetch_restaurants, create_map], model=HfApiModel(), additional_authorized_imports=[\"datetime\"])\n",
        "agent.run(\"I am at times square, new york. Get me famous pizza restaurants and generate a map.\")\n"
      ],
      "metadata": {
        "colab": {
          "base_uri": "https://localhost:8080/",
          "height": 1000
        },
        "id": "uECPNYzkgoqy",
        "outputId": "a3d17714-9336-44e7-c552-d68fd29fa101"
      },
      "execution_count": 12,
      "outputs": [
        {
          "output_type": "display_data",
          "data": {
            "text/plain": [
              "\u001b[38;2;212;183;2m╭─\u001b[0m\u001b[38;2;212;183;2m───────────────────────────────────────────────────\u001b[0m\u001b[38;2;212;183;2m \u001b[0m\u001b[1;38;2;212;183;2mNew run\u001b[0m\u001b[38;2;212;183;2m \u001b[0m\u001b[38;2;212;183;2m───────────────────────────────────────────────────\u001b[0m\u001b[38;2;212;183;2m─╮\u001b[0m\n",
              "\u001b[38;2;212;183;2m│\u001b[0m                                                                                                                 \u001b[38;2;212;183;2m│\u001b[0m\n",
              "\u001b[38;2;212;183;2m│\u001b[0m \u001b[1mI am at times square, new york. Get me famous pizza restaurants and generate a map.\u001b[0m                             \u001b[38;2;212;183;2m│\u001b[0m\n",
              "\u001b[38;2;212;183;2m│\u001b[0m                                                                                                                 \u001b[38;2;212;183;2m│\u001b[0m\n",
              "\u001b[38;2;212;183;2m╰─\u001b[0m\u001b[38;2;212;183;2m HfApiModel - Qwen/Qwen2.5-Coder-32B-Instruct \u001b[0m\u001b[38;2;212;183;2m─────────────────────────────────────────────────────────────────\u001b[0m\u001b[38;2;212;183;2m─╯\u001b[0m\n"
            ],
            "text/html": [
              "<pre style=\"white-space:pre;overflow-x:auto;line-height:normal;font-family:Menlo,'DejaVu Sans Mono',consolas,'Courier New',monospace\"><span style=\"color: #d4b702; text-decoration-color: #d4b702\">╭──────────────────────────────────────────────────── </span><span style=\"color: #d4b702; text-decoration-color: #d4b702; font-weight: bold\">New run</span><span style=\"color: #d4b702; text-decoration-color: #d4b702\"> ────────────────────────────────────────────────────╮</span>\n",
              "<span style=\"color: #d4b702; text-decoration-color: #d4b702\">│</span>                                                                                                                 <span style=\"color: #d4b702; text-decoration-color: #d4b702\">│</span>\n",
              "<span style=\"color: #d4b702; text-decoration-color: #d4b702\">│</span> <span style=\"font-weight: bold\">I am at times square, new york. Get me famous pizza restaurants and generate a map.</span>                             <span style=\"color: #d4b702; text-decoration-color: #d4b702\">│</span>\n",
              "<span style=\"color: #d4b702; text-decoration-color: #d4b702\">│</span>                                                                                                                 <span style=\"color: #d4b702; text-decoration-color: #d4b702\">│</span>\n",
              "<span style=\"color: #d4b702; text-decoration-color: #d4b702\">╰─ HfApiModel - Qwen/Qwen2.5-Coder-32B-Instruct ──────────────────────────────────────────────────────────────────╯</span>\n",
              "</pre>\n"
            ]
          },
          "metadata": {}
        },
        {
          "output_type": "display_data",
          "data": {
            "text/plain": [
              "\u001b[38;2;212;183;2m━━━━━━━━━━━━━━━━━━━━━━━━━━━━━━━━━━━━━━━━━━━━━━━━━━━━━ \u001b[0m\u001b[1mStep \u001b[0m\u001b[1;36m1\u001b[0m\u001b[38;2;212;183;2m ━━━━━━━━━━━━━━━━━━━━━━━━━━━━━━━━━━━━━━━━━━━━━━━━━━━━━━\u001b[0m\n"
            ],
            "text/html": [
              "<pre style=\"white-space:pre;overflow-x:auto;line-height:normal;font-family:Menlo,'DejaVu Sans Mono',consolas,'Courier New',monospace\"><span style=\"color: #d4b702; text-decoration-color: #d4b702\">━━━━━━━━━━━━━━━━━━━━━━━━━━━━━━━━━━━━━━━━━━━━━━━━━━━━━ </span><span style=\"font-weight: bold\">Step </span><span style=\"color: #008080; text-decoration-color: #008080; font-weight: bold\">1</span><span style=\"color: #d4b702; text-decoration-color: #d4b702\"> ━━━━━━━━━━━━━━━━━━━━━━━━━━━━━━━━━━━━━━━━━━━━━━━━━━━━━━</span>\n",
              "</pre>\n"
            ]
          },
          "metadata": {}
        },
        {
          "output_type": "display_data",
          "data": {
            "text/plain": [
              " ─ \u001b[1mExecuting parsed code:\u001b[0m ──────────────────────────────────────────────────────────────────────────────────────── \n",
              "  \u001b[38;2;248;248;242;48;2;39;40;34mrestaurants\u001b[0m\u001b[38;2;248;248;242;48;2;39;40;34m \u001b[0m\u001b[38;2;255;70;137;48;2;39;40;34m=\u001b[0m\u001b[38;2;248;248;242;48;2;39;40;34m \u001b[0m\u001b[38;2;248;248;242;48;2;39;40;34mfetch_restaurants\u001b[0m\u001b[38;2;248;248;242;48;2;39;40;34m(\u001b[0m\u001b[38;2;248;248;242;48;2;39;40;34mlocation\u001b[0m\u001b[38;2;255;70;137;48;2;39;40;34m=\u001b[0m\u001b[38;2;230;219;116;48;2;39;40;34m\"\u001b[0m\u001b[38;2;230;219;116;48;2;39;40;34mTimes Square, New York\u001b[0m\u001b[38;2;230;219;116;48;2;39;40;34m\"\u001b[0m\u001b[38;2;248;248;242;48;2;39;40;34m,\u001b[0m\u001b[38;2;248;248;242;48;2;39;40;34m \u001b[0m\u001b[38;2;248;248;242;48;2;39;40;34mcuisine\u001b[0m\u001b[38;2;255;70;137;48;2;39;40;34m=\u001b[0m\u001b[38;2;230;219;116;48;2;39;40;34m\"\u001b[0m\u001b[38;2;230;219;116;48;2;39;40;34mpizza\u001b[0m\u001b[38;2;230;219;116;48;2;39;40;34m\"\u001b[0m\u001b[38;2;248;248;242;48;2;39;40;34m)\u001b[0m\u001b[48;2;39;40;34m                            \u001b[0m  \n",
              "  \u001b[38;2;248;248;242;48;2;39;40;34mprint\u001b[0m\u001b[38;2;248;248;242;48;2;39;40;34m(\u001b[0m\u001b[38;2;248;248;242;48;2;39;40;34mrestaurants\u001b[0m\u001b[38;2;248;248;242;48;2;39;40;34m)\u001b[0m\u001b[48;2;39;40;34m                                                                                             \u001b[0m  \n",
              " ───────────────────────────────────────────────────────────────────────────────────────────────────────────────── \n"
            ],
            "text/html": [
              "<pre style=\"white-space:pre;overflow-x:auto;line-height:normal;font-family:Menlo,'DejaVu Sans Mono',consolas,'Courier New',monospace\"> ─ <span style=\"font-weight: bold\">Executing parsed code:</span> ──────────────────────────────────────────────────────────────────────────────────────── \n",
              "  <span style=\"color: #f8f8f2; text-decoration-color: #f8f8f2; background-color: #272822\">restaurants </span><span style=\"color: #ff4689; text-decoration-color: #ff4689; background-color: #272822\">=</span><span style=\"color: #f8f8f2; text-decoration-color: #f8f8f2; background-color: #272822\"> fetch_restaurants(location</span><span style=\"color: #ff4689; text-decoration-color: #ff4689; background-color: #272822\">=</span><span style=\"color: #e6db74; text-decoration-color: #e6db74; background-color: #272822\">\"Times Square, New York\"</span><span style=\"color: #f8f8f2; text-decoration-color: #f8f8f2; background-color: #272822\">, cuisine</span><span style=\"color: #ff4689; text-decoration-color: #ff4689; background-color: #272822\">=</span><span style=\"color: #e6db74; text-decoration-color: #e6db74; background-color: #272822\">\"pizza\"</span><span style=\"color: #f8f8f2; text-decoration-color: #f8f8f2; background-color: #272822\">)</span><span style=\"background-color: #272822\">                            </span>  \n",
              "  <span style=\"color: #f8f8f2; text-decoration-color: #f8f8f2; background-color: #272822\">print(restaurants)</span><span style=\"background-color: #272822\">                                                                                             </span>  \n",
              " ───────────────────────────────────────────────────────────────────────────────────────────────────────────────── \n",
              "</pre>\n"
            ]
          },
          "metadata": {}
        },
        {
          "output_type": "stream",
          "name": "stdout",
          "text": [
            "Fetching restaurants with query: top 5 pizza restaurants near Times Square, New York\n",
            "Performing DuckDuckGo search for query: top 5 pizza restaurants near Times Square, New York\n",
            "Received response: 202\n",
            "Search results: []\n",
            "Fetched restaurants: []\n"
          ]
        },
        {
          "output_type": "display_data",
          "data": {
            "text/plain": [
              "\u001b[1mExecution logs:\u001b[0m\n",
              "[]\n",
              "\n",
              "Out: None\n"
            ],
            "text/html": [
              "<pre style=\"white-space:pre;overflow-x:auto;line-height:normal;font-family:Menlo,'DejaVu Sans Mono',consolas,'Courier New',monospace\"><span style=\"font-weight: bold\">Execution logs:</span>\n",
              "[]\n",
              "\n",
              "Out: None\n",
              "</pre>\n"
            ]
          },
          "metadata": {}
        },
        {
          "output_type": "display_data",
          "data": {
            "text/plain": [
              "\u001b[2m[Step 0: Duration 0.28 seconds| Input tokens: 2,281 | Output tokens: 62]\u001b[0m\n"
            ],
            "text/html": [
              "<pre style=\"white-space:pre;overflow-x:auto;line-height:normal;font-family:Menlo,'DejaVu Sans Mono',consolas,'Courier New',monospace\"><span style=\"color: #7f7f7f; text-decoration-color: #7f7f7f\">[Step 0: Duration 0.28 seconds| Input tokens: 2,281 | Output tokens: 62]</span>\n",
              "</pre>\n"
            ]
          },
          "metadata": {}
        },
        {
          "output_type": "display_data",
          "data": {
            "text/plain": [
              "\u001b[38;2;212;183;2m━━━━━━━━━━━━━━━━━━━━━━━━━━━━━━━━━━━━━━━━━━━━━━━━━━━━━ \u001b[0m\u001b[1mStep \u001b[0m\u001b[1;36m2\u001b[0m\u001b[38;2;212;183;2m ━━━━━━━━━━━━━━━━━━━━━━━━━━━━━━━━━━━━━━━━━━━━━━━━━━━━━━\u001b[0m\n"
            ],
            "text/html": [
              "<pre style=\"white-space:pre;overflow-x:auto;line-height:normal;font-family:Menlo,'DejaVu Sans Mono',consolas,'Courier New',monospace\"><span style=\"color: #d4b702; text-decoration-color: #d4b702\">━━━━━━━━━━━━━━━━━━━━━━━━━━━━━━━━━━━━━━━━━━━━━━━━━━━━━ </span><span style=\"font-weight: bold\">Step </span><span style=\"color: #008080; text-decoration-color: #008080; font-weight: bold\">2</span><span style=\"color: #d4b702; text-decoration-color: #d4b702\"> ━━━━━━━━━━━━━━━━━━━━━━━━━━━━━━━━━━━━━━━━━━━━━━━━━━━━━━</span>\n",
              "</pre>\n"
            ]
          },
          "metadata": {}
        },
        {
          "output_type": "display_data",
          "data": {
            "text/plain": [
              " ─ \u001b[1mExecuting parsed code:\u001b[0m ──────────────────────────────────────────────────────────────────────────────────────── \n",
              "  \u001b[38;2;248;248;242;48;2;39;40;34mrestaurants\u001b[0m\u001b[38;2;248;248;242;48;2;39;40;34m \u001b[0m\u001b[38;2;255;70;137;48;2;39;40;34m=\u001b[0m\u001b[38;2;248;248;242;48;2;39;40;34m \u001b[0m\u001b[38;2;248;248;242;48;2;39;40;34mfetch_restaurants\u001b[0m\u001b[38;2;248;248;242;48;2;39;40;34m(\u001b[0m\u001b[38;2;248;248;242;48;2;39;40;34mlocation\u001b[0m\u001b[38;2;255;70;137;48;2;39;40;34m=\u001b[0m\u001b[38;2;230;219;116;48;2;39;40;34m\"\u001b[0m\u001b[38;2;230;219;116;48;2;39;40;34mTimes Square, New York\u001b[0m\u001b[38;2;230;219;116;48;2;39;40;34m\"\u001b[0m\u001b[38;2;248;248;242;48;2;39;40;34m,\u001b[0m\u001b[38;2;248;248;242;48;2;39;40;34m \u001b[0m\u001b[38;2;248;248;242;48;2;39;40;34mcuisine\u001b[0m\u001b[38;2;255;70;137;48;2;39;40;34m=\u001b[0m\u001b[38;2;230;219;116;48;2;39;40;34m\"\u001b[0m\u001b[38;2;230;219;116;48;2;39;40;34mpizza\u001b[0m\u001b[38;2;230;219;116;48;2;39;40;34m\"\u001b[0m\u001b[38;2;248;248;242;48;2;39;40;34m)\u001b[0m\u001b[48;2;39;40;34m                            \u001b[0m  \n",
              "  \u001b[38;2;248;248;242;48;2;39;40;34mprint\u001b[0m\u001b[38;2;248;248;242;48;2;39;40;34m(\u001b[0m\u001b[38;2;248;248;242;48;2;39;40;34mrestaurants\u001b[0m\u001b[38;2;248;248;242;48;2;39;40;34m)\u001b[0m\u001b[48;2;39;40;34m                                                                                             \u001b[0m  \n",
              " ───────────────────────────────────────────────────────────────────────────────────────────────────────────────── \n"
            ],
            "text/html": [
              "<pre style=\"white-space:pre;overflow-x:auto;line-height:normal;font-family:Menlo,'DejaVu Sans Mono',consolas,'Courier New',monospace\"> ─ <span style=\"font-weight: bold\">Executing parsed code:</span> ──────────────────────────────────────────────────────────────────────────────────────── \n",
              "  <span style=\"color: #f8f8f2; text-decoration-color: #f8f8f2; background-color: #272822\">restaurants </span><span style=\"color: #ff4689; text-decoration-color: #ff4689; background-color: #272822\">=</span><span style=\"color: #f8f8f2; text-decoration-color: #f8f8f2; background-color: #272822\"> fetch_restaurants(location</span><span style=\"color: #ff4689; text-decoration-color: #ff4689; background-color: #272822\">=</span><span style=\"color: #e6db74; text-decoration-color: #e6db74; background-color: #272822\">\"Times Square, New York\"</span><span style=\"color: #f8f8f2; text-decoration-color: #f8f8f2; background-color: #272822\">, cuisine</span><span style=\"color: #ff4689; text-decoration-color: #ff4689; background-color: #272822\">=</span><span style=\"color: #e6db74; text-decoration-color: #e6db74; background-color: #272822\">\"pizza\"</span><span style=\"color: #f8f8f2; text-decoration-color: #f8f8f2; background-color: #272822\">)</span><span style=\"background-color: #272822\">                            </span>  \n",
              "  <span style=\"color: #f8f8f2; text-decoration-color: #f8f8f2; background-color: #272822\">print(restaurants)</span><span style=\"background-color: #272822\">                                                                                             </span>  \n",
              " ───────────────────────────────────────────────────────────────────────────────────────────────────────────────── \n",
              "</pre>\n"
            ]
          },
          "metadata": {}
        },
        {
          "output_type": "stream",
          "name": "stdout",
          "text": [
            "Fetching restaurants with query: top 5 pizza restaurants near Times Square, New York\n",
            "Performing DuckDuckGo search for query: top 5 pizza restaurants near Times Square, New York\n",
            "Received response: 202\n",
            "Search results: []\n",
            "Fetched restaurants: []\n"
          ]
        },
        {
          "output_type": "display_data",
          "data": {
            "text/plain": [
              "\u001b[1mExecution logs:\u001b[0m\n",
              "[]\n",
              "\n",
              "Out: None\n"
            ],
            "text/html": [
              "<pre style=\"white-space:pre;overflow-x:auto;line-height:normal;font-family:Menlo,'DejaVu Sans Mono',consolas,'Courier New',monospace\"><span style=\"font-weight: bold\">Execution logs:</span>\n",
              "[]\n",
              "\n",
              "Out: None\n",
              "</pre>\n"
            ]
          },
          "metadata": {}
        },
        {
          "output_type": "display_data",
          "data": {
            "text/plain": [
              "\u001b[2m[Step 1: Duration 0.26 seconds| Input tokens: 4,713 | Output tokens: 128]\u001b[0m\n"
            ],
            "text/html": [
              "<pre style=\"white-space:pre;overflow-x:auto;line-height:normal;font-family:Menlo,'DejaVu Sans Mono',consolas,'Courier New',monospace\"><span style=\"color: #7f7f7f; text-decoration-color: #7f7f7f\">[Step 1: Duration 0.26 seconds| Input tokens: 4,713 | Output tokens: 128]</span>\n",
              "</pre>\n"
            ]
          },
          "metadata": {}
        },
        {
          "output_type": "display_data",
          "data": {
            "text/plain": [
              "\u001b[38;2;212;183;2m━━━━━━━━━━━━━━━━━━━━━━━━━━━━━━━━━━━━━━━━━━━━━━━━━━━━━ \u001b[0m\u001b[1mStep \u001b[0m\u001b[1;36m3\u001b[0m\u001b[38;2;212;183;2m ━━━━━━━━━━━━━━━━━━━━━━━━━━━━━━━━━━━━━━━━━━━━━━━━━━━━━━\u001b[0m\n"
            ],
            "text/html": [
              "<pre style=\"white-space:pre;overflow-x:auto;line-height:normal;font-family:Menlo,'DejaVu Sans Mono',consolas,'Courier New',monospace\"><span style=\"color: #d4b702; text-decoration-color: #d4b702\">━━━━━━━━━━━━━━━━━━━━━━━━━━━━━━━━━━━━━━━━━━━━━━━━━━━━━ </span><span style=\"font-weight: bold\">Step </span><span style=\"color: #008080; text-decoration-color: #008080; font-weight: bold\">3</span><span style=\"color: #d4b702; text-decoration-color: #d4b702\"> ━━━━━━━━━━━━━━━━━━━━━━━━━━━━━━━━━━━━━━━━━━━━━━━━━━━━━━</span>\n",
              "</pre>\n"
            ]
          },
          "metadata": {}
        },
        {
          "output_type": "display_data",
          "data": {
            "text/plain": [
              " ─ \u001b[1mExecuting parsed code:\u001b[0m ──────────────────────────────────────────────────────────────────────────────────────── \n",
              "  \u001b[38;2;248;248;242;48;2;39;40;34mrestaurants\u001b[0m\u001b[38;2;248;248;242;48;2;39;40;34m \u001b[0m\u001b[38;2;255;70;137;48;2;39;40;34m=\u001b[0m\u001b[38;2;248;248;242;48;2;39;40;34m \u001b[0m\u001b[38;2;248;248;242;48;2;39;40;34mfetch_restaurants\u001b[0m\u001b[38;2;248;248;242;48;2;39;40;34m(\u001b[0m\u001b[38;2;248;248;242;48;2;39;40;34mlocation\u001b[0m\u001b[38;2;255;70;137;48;2;39;40;34m=\u001b[0m\u001b[38;2;230;219;116;48;2;39;40;34m\"\u001b[0m\u001b[38;2;230;219;116;48;2;39;40;34mTimes Square, New York\u001b[0m\u001b[38;2;230;219;116;48;2;39;40;34m\"\u001b[0m\u001b[38;2;248;248;242;48;2;39;40;34m,\u001b[0m\u001b[38;2;248;248;242;48;2;39;40;34m \u001b[0m\u001b[38;2;248;248;242;48;2;39;40;34mcuisine\u001b[0m\u001b[38;2;255;70;137;48;2;39;40;34m=\u001b[0m\u001b[38;2;230;219;116;48;2;39;40;34m\"\u001b[0m\u001b[38;2;230;219;116;48;2;39;40;34mpizza\u001b[0m\u001b[38;2;230;219;116;48;2;39;40;34m\"\u001b[0m\u001b[38;2;248;248;242;48;2;39;40;34m)\u001b[0m\u001b[48;2;39;40;34m                            \u001b[0m  \n",
              "  \u001b[38;2;248;248;242;48;2;39;40;34mprint\u001b[0m\u001b[38;2;248;248;242;48;2;39;40;34m(\u001b[0m\u001b[38;2;230;219;116;48;2;39;40;34m\"\u001b[0m\u001b[38;2;230;219;116;48;2;39;40;34mFetched restaurants:\u001b[0m\u001b[38;2;230;219;116;48;2;39;40;34m\"\u001b[0m\u001b[38;2;248;248;242;48;2;39;40;34m,\u001b[0m\u001b[38;2;248;248;242;48;2;39;40;34m \u001b[0m\u001b[38;2;248;248;242;48;2;39;40;34mrestaurants\u001b[0m\u001b[38;2;248;248;242;48;2;39;40;34m)\u001b[0m\u001b[48;2;39;40;34m                                                                     \u001b[0m  \n",
              " ───────────────────────────────────────────────────────────────────────────────────────────────────────────────── \n"
            ],
            "text/html": [
              "<pre style=\"white-space:pre;overflow-x:auto;line-height:normal;font-family:Menlo,'DejaVu Sans Mono',consolas,'Courier New',monospace\"> ─ <span style=\"font-weight: bold\">Executing parsed code:</span> ──────────────────────────────────────────────────────────────────────────────────────── \n",
              "  <span style=\"color: #f8f8f2; text-decoration-color: #f8f8f2; background-color: #272822\">restaurants </span><span style=\"color: #ff4689; text-decoration-color: #ff4689; background-color: #272822\">=</span><span style=\"color: #f8f8f2; text-decoration-color: #f8f8f2; background-color: #272822\"> fetch_restaurants(location</span><span style=\"color: #ff4689; text-decoration-color: #ff4689; background-color: #272822\">=</span><span style=\"color: #e6db74; text-decoration-color: #e6db74; background-color: #272822\">\"Times Square, New York\"</span><span style=\"color: #f8f8f2; text-decoration-color: #f8f8f2; background-color: #272822\">, cuisine</span><span style=\"color: #ff4689; text-decoration-color: #ff4689; background-color: #272822\">=</span><span style=\"color: #e6db74; text-decoration-color: #e6db74; background-color: #272822\">\"pizza\"</span><span style=\"color: #f8f8f2; text-decoration-color: #f8f8f2; background-color: #272822\">)</span><span style=\"background-color: #272822\">                            </span>  \n",
              "  <span style=\"color: #f8f8f2; text-decoration-color: #f8f8f2; background-color: #272822\">print(</span><span style=\"color: #e6db74; text-decoration-color: #e6db74; background-color: #272822\">\"Fetched restaurants:\"</span><span style=\"color: #f8f8f2; text-decoration-color: #f8f8f2; background-color: #272822\">, restaurants)</span><span style=\"background-color: #272822\">                                                                     </span>  \n",
              " ───────────────────────────────────────────────────────────────────────────────────────────────────────────────── \n",
              "</pre>\n"
            ]
          },
          "metadata": {}
        },
        {
          "output_type": "stream",
          "name": "stdout",
          "text": [
            "Fetching restaurants with query: top 5 pizza restaurants near Times Square, New York\n",
            "Performing DuckDuckGo search for query: top 5 pizza restaurants near Times Square, New York\n",
            "Received response: 202\n",
            "Search results: []\n",
            "Fetched restaurants: []\n"
          ]
        },
        {
          "output_type": "display_data",
          "data": {
            "text/plain": [
              "\u001b[1mExecution logs:\u001b[0m\n",
              "Fetched restaurants: []\n",
              "\n",
              "Out: None\n"
            ],
            "text/html": [
              "<pre style=\"white-space:pre;overflow-x:auto;line-height:normal;font-family:Menlo,'DejaVu Sans Mono',consolas,'Courier New',monospace\"><span style=\"font-weight: bold\">Execution logs:</span>\n",
              "Fetched restaurants: []\n",
              "\n",
              "Out: None\n",
              "</pre>\n"
            ]
          },
          "metadata": {}
        },
        {
          "output_type": "display_data",
          "data": {
            "text/plain": [
              "\u001b[2m[Step 2: Duration 0.25 seconds| Input tokens: 7,300 | Output tokens: 214]\u001b[0m\n"
            ],
            "text/html": [
              "<pre style=\"white-space:pre;overflow-x:auto;line-height:normal;font-family:Menlo,'DejaVu Sans Mono',consolas,'Courier New',monospace\"><span style=\"color: #7f7f7f; text-decoration-color: #7f7f7f\">[Step 2: Duration 0.25 seconds| Input tokens: 7,300 | Output tokens: 214]</span>\n",
              "</pre>\n"
            ]
          },
          "metadata": {}
        },
        {
          "output_type": "display_data",
          "data": {
            "text/plain": [
              "\u001b[38;2;212;183;2m━━━━━━━━━━━━━━━━━━━━━━━━━━━━━━━━━━━━━━━━━━━━━━━━━━━━━ \u001b[0m\u001b[1mStep \u001b[0m\u001b[1;36m4\u001b[0m\u001b[38;2;212;183;2m ━━━━━━━━━━━━━━━━━━━━━━━━━━━━━━━━━━━━━━━━━━━━━━━━━━━━━━\u001b[0m\n"
            ],
            "text/html": [
              "<pre style=\"white-space:pre;overflow-x:auto;line-height:normal;font-family:Menlo,'DejaVu Sans Mono',consolas,'Courier New',monospace\"><span style=\"color: #d4b702; text-decoration-color: #d4b702\">━━━━━━━━━━━━━━━━━━━━━━━━━━━━━━━━━━━━━━━━━━━━━━━━━━━━━ </span><span style=\"font-weight: bold\">Step </span><span style=\"color: #008080; text-decoration-color: #008080; font-weight: bold\">4</span><span style=\"color: #d4b702; text-decoration-color: #d4b702\"> ━━━━━━━━━━━━━━━━━━━━━━━━━━━━━━━━━━━━━━━━━━━━━━━━━━━━━━</span>\n",
              "</pre>\n"
            ]
          },
          "metadata": {}
        },
        {
          "output_type": "display_data",
          "data": {
            "text/plain": [
              " ─ \u001b[1mExecuting parsed code:\u001b[0m ──────────────────────────────────────────────────────────────────────────────────────── \n",
              "  \u001b[38;2;248;248;242;48;2;39;40;34msearch_results\u001b[0m\u001b[38;2;248;248;242;48;2;39;40;34m \u001b[0m\u001b[38;2;255;70;137;48;2;39;40;34m=\u001b[0m\u001b[38;2;248;248;242;48;2;39;40;34m \u001b[0m\u001b[38;2;248;248;242;48;2;39;40;34mweb_search\u001b[0m\u001b[38;2;248;248;242;48;2;39;40;34m(\u001b[0m\u001b[38;2;248;248;242;48;2;39;40;34mquery\u001b[0m\u001b[38;2;255;70;137;48;2;39;40;34m=\u001b[0m\u001b[38;2;230;219;116;48;2;39;40;34m\"\u001b[0m\u001b[38;2;230;219;116;48;2;39;40;34mfamous pizza restaurants in times square new york\u001b[0m\u001b[38;2;230;219;116;48;2;39;40;34m\"\u001b[0m\u001b[38;2;248;248;242;48;2;39;40;34m)\u001b[0m\u001b[48;2;39;40;34m                         \u001b[0m  \n",
              "  \u001b[38;2;248;248;242;48;2;39;40;34mprint\u001b[0m\u001b[38;2;248;248;242;48;2;39;40;34m(\u001b[0m\u001b[38;2;248;248;242;48;2;39;40;34msearch_results\u001b[0m\u001b[38;2;248;248;242;48;2;39;40;34m)\u001b[0m\u001b[48;2;39;40;34m                                                                                          \u001b[0m  \n",
              " ───────────────────────────────────────────────────────────────────────────────────────────────────────────────── \n"
            ],
            "text/html": [
              "<pre style=\"white-space:pre;overflow-x:auto;line-height:normal;font-family:Menlo,'DejaVu Sans Mono',consolas,'Courier New',monospace\"> ─ <span style=\"font-weight: bold\">Executing parsed code:</span> ──────────────────────────────────────────────────────────────────────────────────────── \n",
              "  <span style=\"color: #f8f8f2; text-decoration-color: #f8f8f2; background-color: #272822\">search_results </span><span style=\"color: #ff4689; text-decoration-color: #ff4689; background-color: #272822\">=</span><span style=\"color: #f8f8f2; text-decoration-color: #f8f8f2; background-color: #272822\"> web_search(query</span><span style=\"color: #ff4689; text-decoration-color: #ff4689; background-color: #272822\">=</span><span style=\"color: #e6db74; text-decoration-color: #e6db74; background-color: #272822\">\"famous pizza restaurants in times square new york\"</span><span style=\"color: #f8f8f2; text-decoration-color: #f8f8f2; background-color: #272822\">)</span><span style=\"background-color: #272822\">                         </span>  \n",
              "  <span style=\"color: #f8f8f2; text-decoration-color: #f8f8f2; background-color: #272822\">print(search_results)</span><span style=\"background-color: #272822\">                                                                                          </span>  \n",
              " ───────────────────────────────────────────────────────────────────────────────────────────────────────────────── \n",
              "</pre>\n"
            ]
          },
          "metadata": {}
        },
        {
          "output_type": "display_data",
          "data": {
            "text/plain": [
              "\u001b[1mExecution logs:\u001b[0m\n",
              "## Search Results\n",
              "\n",
              "[11 Best Pizza Places To Try Near Times Square, According To A Native \n",
              "...](https://www.tastingtable.com/1590443/best-pizza-places-time-square/)\n",
              "Joe's Pizza is a New York institution run by Joe Pozzuoli, who hails from another pizza capital of the world: \n",
              "Naples, Italy. The original Joe's Pizza location opened in the West Village in 1975 ...\n",
              "\n",
              "[7 of the Best Pizza Places in Times Square - Travel \n",
              "Magazine](https://www.travelmag.com/articles/pizza-places-times-square/)\n",
              "Take a pizza pilgrimage to Times Square - the quest could be just as memorable as the slices themselves. Emmy \n",
              "Squared Pizza. 311 W. 48 th Street. Purists might complain that Emmy Squared doesn't serve New York-style pizza, \n",
              "but that doesn't stop them from having some of the absolute best pies in Times Square.\n",
              "\n",
              "[10 of the Best Pizza Places in Times \n",
              "Square](https://www.thefamilyvacationguide.com/new-york/best-pizza-times-square-new-york/)\n",
              "The chain started in 1964 and has been serving fresh slices near Central Park for decades. It is the perfect option\n",
              "for tourists and visitors seeking to try a pizza at a tried and true New York City staple. Four famous Ray's Pizza \n",
              "locations exist in different spots in Manhattan alone, making it one of the big players in the city's pizza market.\n",
              "\n",
              "[Pizza in Times Square: Notable Eateries in NYC's Entertainment \n",
              "Hub](https://www.theworldandthensome.com/the-best-pizza-in-times-square-nyc-6-places-you-have-to-try/)\n",
              "Emmy Squared Pizza. Address: 311 West 48th Street, New York, NY 10036.Get directions on Google Maps.. Next up, we \n",
              "have Emmy Squared Pizza which has a pizza joint in Hell's Kitchen, only a short walk from Times Square.. Emmy \n",
              "Squared are actually one of the best pizza restaurants in the whole of NYC, but their pizza is a little different \n",
              "to the traditional NYC slices you're used to.\n",
              "\n",
              "[The 10 Best Pizza in Times Square New York City - \n",
              "Tripadvisor](https://www.tripadvisor.com/Restaurants-g60763-c31-zfn15565670-New_York_City_New_York.html)\n",
              "Best Pizza in Times Square New York City, New York: Find Tripadvisor traveller reviews of Times Square New York \n",
              "City Pizza places and search by price, location, and more.\n",
              "\n",
              "[The Best 10 Pizza Places near Times Square in New York, NY - \n",
              "Yelp](https://www.yelp.com/search?cflt=pizza&find_near=times-square-new-york-2)\n",
              "Best Pizza near Times Square - Joe's Pizza, Carnegie Pizza, John's of Times Square, Roma Pizza & Restaurant, B Side\n",
              "Pizza & Wine Bar, Patzeria Perfect Pizza, See No Evil Pizza, NY Pizza Suprema, $1.50 Fresh Pizza, Made In New York \n",
              "Pizza\n",
              "\n",
              "[Pizza Times Square New York, NY - Last Updated February 2025 - \n",
              "Yelp](https://www.yelp.com/search?find_desc=pizza+times+square&find_loc=New+York,+NY)\n",
              "Top 10 Best Pizza Times Square in New York, NY - February 2025 - Yelp - John's of Times Square, Patzeria Perfect \n",
              "Pizza, Little Italy Pizza, Carnegie Pizza, Carmine's - Time Square, Acerra Brick Oven Pizza, Tony's Di Napoli, \n",
              "Famous Original Ray's Pizza, Paul's On Times Square, Dutch Freds\n",
              "\n",
              "[Best Pizza in Times Square in 2025 (From a NYC \n",
              "Local!)](https://www.yourlocalsguide.com/best-pizza-in-times-square/)\n",
              "Address: 311 W 48th St, New York, NY 10036. Best Takeout Pizza in Times Square 8. NY Pizza Suprema: Ultimate Plain \n",
              "Cheese Slice Owner Joe Riggio. Joe Riggio's father founded NY Pizza Suprema in 1964 and staunchly \"believed that if\n",
              "you wanted to be successful,\" then you had to \"do one thing and do it better than anyone else.\"\n",
              "\n",
              "[The 17 BEST Restaurants in Times Square NYC in 2025 - Loving New \n",
              "York](https://loving-newyork.com/best-restaurants-times-square-nyc/)\n",
              "The 17 BEST Restaurants in Times Square NYC in 2025 Where to find the best food in Times Square, New York City. \n",
              "Steffen. 236 ratings. I love good food and would definitely call myself a true foodie. And New York City is a real \n",
              "mecca with an estimated 24,000 restaurants (even if you visited two restaurants a day, it would take you over 32 \n",
              "years ...\n",
              "\n",
              "[Best Pizza in Times Square, NY: 15 Top Pizzerias! \n",
              "(2025)](https://familydestinationsguide.com/best-pizza-in-times-square-ny/)\n",
              "260 W 44th St New York, NY 10036 (212) 391-7560. John's of Times Square is a famous 1997 eatery selling distinctive\n",
              "thin-crust pizza. Why We Recommend This Pizza Joint\n",
              "\n",
              "Out: None\n"
            ],
            "text/html": [
              "<pre style=\"white-space:pre;overflow-x:auto;line-height:normal;font-family:Menlo,'DejaVu Sans Mono',consolas,'Courier New',monospace\"><span style=\"font-weight: bold\">Execution logs:</span>\n",
              "## Search Results\n",
              "\n",
              "[11 Best Pizza Places To Try Near Times Square, According To A Native \n",
              "...](https://www.tastingtable.com/1590443/best-pizza-places-time-square/)\n",
              "Joe's Pizza is a New York institution run by Joe Pozzuoli, who hails from another pizza capital of the world: \n",
              "Naples, Italy. The original Joe's Pizza location opened in the West Village in 1975 ...\n",
              "\n",
              "[7 of the Best Pizza Places in Times Square - Travel \n",
              "Magazine](https://www.travelmag.com/articles/pizza-places-times-square/)\n",
              "Take a pizza pilgrimage to Times Square - the quest could be just as memorable as the slices themselves. Emmy \n",
              "Squared Pizza. 311 W. 48 th Street. Purists might complain that Emmy Squared doesn't serve New York-style pizza, \n",
              "but that doesn't stop them from having some of the absolute best pies in Times Square.\n",
              "\n",
              "[10 of the Best Pizza Places in Times \n",
              "Square](https://www.thefamilyvacationguide.com/new-york/best-pizza-times-square-new-york/)\n",
              "The chain started in 1964 and has been serving fresh slices near Central Park for decades. It is the perfect option\n",
              "for tourists and visitors seeking to try a pizza at a tried and true New York City staple. Four famous Ray's Pizza \n",
              "locations exist in different spots in Manhattan alone, making it one of the big players in the city's pizza market.\n",
              "\n",
              "[Pizza in Times Square: Notable Eateries in NYC's Entertainment \n",
              "Hub](https://www.theworldandthensome.com/the-best-pizza-in-times-square-nyc-6-places-you-have-to-try/)\n",
              "Emmy Squared Pizza. Address: 311 West 48th Street, New York, NY 10036.Get directions on Google Maps.. Next up, we \n",
              "have Emmy Squared Pizza which has a pizza joint in Hell's Kitchen, only a short walk from Times Square.. Emmy \n",
              "Squared are actually one of the best pizza restaurants in the whole of NYC, but their pizza is a little different \n",
              "to the traditional NYC slices you're used to.\n",
              "\n",
              "[The 10 Best Pizza in Times Square New York City - \n",
              "Tripadvisor](https://www.tripadvisor.com/Restaurants-g60763-c31-zfn15565670-New_York_City_New_York.html)\n",
              "Best Pizza in Times Square New York City, New York: Find Tripadvisor traveller reviews of Times Square New York \n",
              "City Pizza places and search by price, location, and more.\n",
              "\n",
              "[The Best 10 Pizza Places near Times Square in New York, NY - \n",
              "Yelp](https://www.yelp.com/search?cflt=pizza&amp;find_near=times-square-new-york-2)\n",
              "Best Pizza near Times Square - Joe's Pizza, Carnegie Pizza, John's of Times Square, Roma Pizza &amp; Restaurant, B Side\n",
              "Pizza &amp; Wine Bar, Patzeria Perfect Pizza, See No Evil Pizza, NY Pizza Suprema, $1.50 Fresh Pizza, Made In New York \n",
              "Pizza\n",
              "\n",
              "[Pizza Times Square New York, NY - Last Updated February 2025 - \n",
              "Yelp](https://www.yelp.com/search?find_desc=pizza+times+square&amp;find_loc=New+York,+NY)\n",
              "Top 10 Best Pizza Times Square in New York, NY - February 2025 - Yelp - John's of Times Square, Patzeria Perfect \n",
              "Pizza, Little Italy Pizza, Carnegie Pizza, Carmine's - Time Square, Acerra Brick Oven Pizza, Tony's Di Napoli, \n",
              "Famous Original Ray's Pizza, Paul's On Times Square, Dutch Freds\n",
              "\n",
              "[Best Pizza in Times Square in 2025 (From a NYC \n",
              "Local!)](https://www.yourlocalsguide.com/best-pizza-in-times-square/)\n",
              "Address: 311 W 48th St, New York, NY 10036. Best Takeout Pizza in Times Square 8. NY Pizza Suprema: Ultimate Plain \n",
              "Cheese Slice Owner Joe Riggio. Joe Riggio's father founded NY Pizza Suprema in 1964 and staunchly \"believed that if\n",
              "you wanted to be successful,\" then you had to \"do one thing and do it better than anyone else.\"\n",
              "\n",
              "[The 17 BEST Restaurants in Times Square NYC in 2025 - Loving New \n",
              "York](https://loving-newyork.com/best-restaurants-times-square-nyc/)\n",
              "The 17 BEST Restaurants in Times Square NYC in 2025 Where to find the best food in Times Square, New York City. \n",
              "Steffen. 236 ratings. I love good food and would definitely call myself a true foodie. And New York City is a real \n",
              "mecca with an estimated 24,000 restaurants (even if you visited two restaurants a day, it would take you over 32 \n",
              "years ...\n",
              "\n",
              "[Best Pizza in Times Square, NY: 15 Top Pizzerias! \n",
              "(2025)](https://familydestinationsguide.com/best-pizza-in-times-square-ny/)\n",
              "260 W 44th St New York, NY 10036 (212) 391-7560. John's of Times Square is a famous 1997 eatery selling distinctive\n",
              "thin-crust pizza. Why We Recommend This Pizza Joint\n",
              "\n",
              "Out: None\n",
              "</pre>\n"
            ]
          },
          "metadata": {}
        },
        {
          "output_type": "display_data",
          "data": {
            "text/plain": [
              "\u001b[2m[Step 3: Duration 1.15 seconds| Input tokens: 10,070 | Output tokens: 344]\u001b[0m\n"
            ],
            "text/html": [
              "<pre style=\"white-space:pre;overflow-x:auto;line-height:normal;font-family:Menlo,'DejaVu Sans Mono',consolas,'Courier New',monospace\"><span style=\"color: #7f7f7f; text-decoration-color: #7f7f7f\">[Step 3: Duration 1.15 seconds| Input tokens: 10,070 | Output tokens: 344]</span>\n",
              "</pre>\n"
            ]
          },
          "metadata": {}
        },
        {
          "output_type": "display_data",
          "data": {
            "text/plain": [
              "\u001b[38;2;212;183;2m━━━━━━━━━━━━━━━━━━━━━━━━━━━━━━━━━━━━━━━━━━━━━━━━━━━━━ \u001b[0m\u001b[1mStep \u001b[0m\u001b[1;36m5\u001b[0m\u001b[38;2;212;183;2m ━━━━━━━━━━━━━━━━━━━━━━━━━━━━━━━━━━━━━━━━━━━━━━━━━━━━━━\u001b[0m\n"
            ],
            "text/html": [
              "<pre style=\"white-space:pre;overflow-x:auto;line-height:normal;font-family:Menlo,'DejaVu Sans Mono',consolas,'Courier New',monospace\"><span style=\"color: #d4b702; text-decoration-color: #d4b702\">━━━━━━━━━━━━━━━━━━━━━━━━━━━━━━━━━━━━━━━━━━━━━━━━━━━━━ </span><span style=\"font-weight: bold\">Step </span><span style=\"color: #008080; text-decoration-color: #008080; font-weight: bold\">5</span><span style=\"color: #d4b702; text-decoration-color: #d4b702\"> ━━━━━━━━━━━━━━━━━━━━━━━━━━━━━━━━━━━━━━━━━━━━━━━━━━━━━━</span>\n",
              "</pre>\n"
            ]
          },
          "metadata": {}
        },
        {
          "output_type": "display_data",
          "data": {
            "text/plain": [
              " ─ \u001b[1mExecuting parsed code:\u001b[0m ──────────────────────────────────────────────────────────────────────────────────────── \n",
              "  \u001b[38;2;248;248;242;48;2;39;40;34mrestaurants\u001b[0m\u001b[38;2;248;248;242;48;2;39;40;34m \u001b[0m\u001b[38;2;255;70;137;48;2;39;40;34m=\u001b[0m\u001b[38;2;248;248;242;48;2;39;40;34m \u001b[0m\u001b[38;2;248;248;242;48;2;39;40;34m[\u001b[0m\u001b[48;2;39;40;34m                                                                                                \u001b[0m  \n",
              "  \u001b[38;2;248;248;242;48;2;39;40;34m    \u001b[0m\u001b[38;2;248;248;242;48;2;39;40;34m{\u001b[0m\u001b[38;2;230;219;116;48;2;39;40;34m\"\u001b[0m\u001b[38;2;230;219;116;48;2;39;40;34mname\u001b[0m\u001b[38;2;230;219;116;48;2;39;40;34m\"\u001b[0m\u001b[38;2;248;248;242;48;2;39;40;34m:\u001b[0m\u001b[38;2;248;248;242;48;2;39;40;34m \u001b[0m\u001b[38;2;230;219;116;48;2;39;40;34m\"\u001b[0m\u001b[38;2;230;219;116;48;2;39;40;34mEmmy Squared Pizza\u001b[0m\u001b[38;2;230;219;116;48;2;39;40;34m\"\u001b[0m\u001b[38;2;248;248;242;48;2;39;40;34m,\u001b[0m\u001b[38;2;248;248;242;48;2;39;40;34m \u001b[0m\u001b[38;2;230;219;116;48;2;39;40;34m\"\u001b[0m\u001b[38;2;230;219;116;48;2;39;40;34mlocation\u001b[0m\u001b[38;2;230;219;116;48;2;39;40;34m\"\u001b[0m\u001b[38;2;248;248;242;48;2;39;40;34m:\u001b[0m\u001b[38;2;248;248;242;48;2;39;40;34m \u001b[0m\u001b[38;2;230;219;116;48;2;39;40;34m\"\u001b[0m\u001b[38;2;230;219;116;48;2;39;40;34m311 W 48th St, New York, NY 10023\u001b[0m\u001b[38;2;230;219;116;48;2;39;40;34m\"\u001b[0m\u001b[38;2;248;248;242;48;2;39;40;34m}\u001b[0m\u001b[38;2;248;248;242;48;2;39;40;34m,\u001b[0m\u001b[48;2;39;40;34m                           \u001b[0m  \n",
              "  \u001b[38;2;248;248;242;48;2;39;40;34m    \u001b[0m\u001b[38;2;248;248;242;48;2;39;40;34m{\u001b[0m\u001b[38;2;230;219;116;48;2;39;40;34m\"\u001b[0m\u001b[38;2;230;219;116;48;2;39;40;34mname\u001b[0m\u001b[38;2;230;219;116;48;2;39;40;34m\"\u001b[0m\u001b[38;2;248;248;242;48;2;39;40;34m:\u001b[0m\u001b[38;2;248;248;242;48;2;39;40;34m \u001b[0m\u001b[38;2;230;219;116;48;2;39;40;34m\"\u001b[0m\u001b[38;2;230;219;116;48;2;39;40;34mJohn\u001b[0m\u001b[38;2;230;219;116;48;2;39;40;34m'\u001b[0m\u001b[38;2;230;219;116;48;2;39;40;34ms of Times Square\u001b[0m\u001b[38;2;230;219;116;48;2;39;40;34m\"\u001b[0m\u001b[38;2;248;248;242;48;2;39;40;34m,\u001b[0m\u001b[38;2;248;248;242;48;2;39;40;34m \u001b[0m\u001b[38;2;230;219;116;48;2;39;40;34m\"\u001b[0m\u001b[38;2;230;219;116;48;2;39;40;34mlocation\u001b[0m\u001b[38;2;230;219;116;48;2;39;40;34m\"\u001b[0m\u001b[38;2;248;248;242;48;2;39;40;34m:\u001b[0m\u001b[38;2;248;248;242;48;2;39;40;34m \u001b[0m\u001b[38;2;230;219;116;48;2;39;40;34m\"\u001b[0m\u001b[38;2;230;219;116;48;2;39;40;34m260 W 44th St, New York, NY 10036\u001b[0m\u001b[38;2;230;219;116;48;2;39;40;34m\"\u001b[0m\u001b[38;2;248;248;242;48;2;39;40;34m}\u001b[0m\u001b[38;2;248;248;242;48;2;39;40;34m,\u001b[0m\u001b[48;2;39;40;34m                       \u001b[0m  \n",
              "  \u001b[38;2;248;248;242;48;2;39;40;34m    \u001b[0m\u001b[38;2;248;248;242;48;2;39;40;34m{\u001b[0m\u001b[38;2;230;219;116;48;2;39;40;34m\"\u001b[0m\u001b[38;2;230;219;116;48;2;39;40;34mname\u001b[0m\u001b[38;2;230;219;116;48;2;39;40;34m\"\u001b[0m\u001b[38;2;248;248;242;48;2;39;40;34m:\u001b[0m\u001b[38;2;248;248;242;48;2;39;40;34m \u001b[0m\u001b[38;2;230;219;116;48;2;39;40;34m\"\u001b[0m\u001b[38;2;230;219;116;48;2;39;40;34mPatzeria Perfect Pizza\u001b[0m\u001b[38;2;230;219;116;48;2;39;40;34m\"\u001b[0m\u001b[38;2;248;248;242;48;2;39;40;34m,\u001b[0m\u001b[38;2;248;248;242;48;2;39;40;34m \u001b[0m\u001b[38;2;230;219;116;48;2;39;40;34m\"\u001b[0m\u001b[38;2;230;219;116;48;2;39;40;34mlocation\u001b[0m\u001b[38;2;230;219;116;48;2;39;40;34m\"\u001b[0m\u001b[38;2;248;248;242;48;2;39;40;34m:\u001b[0m\u001b[38;2;248;248;242;48;2;39;40;34m \u001b[0m\u001b[38;2;230;219;116;48;2;39;40;34m\"\u001b[0m\u001b[38;2;230;219;116;48;2;39;40;34m126 W 45th St, New York, NY 10036\u001b[0m\u001b[38;2;230;219;116;48;2;39;40;34m\"\u001b[0m\u001b[38;2;248;248;242;48;2;39;40;34m}\u001b[0m\u001b[38;2;248;248;242;48;2;39;40;34m,\u001b[0m\u001b[48;2;39;40;34m                       \u001b[0m  \n",
              "  \u001b[38;2;248;248;242;48;2;39;40;34m    \u001b[0m\u001b[38;2;248;248;242;48;2;39;40;34m{\u001b[0m\u001b[38;2;230;219;116;48;2;39;40;34m\"\u001b[0m\u001b[38;2;230;219;116;48;2;39;40;34mname\u001b[0m\u001b[38;2;230;219;116;48;2;39;40;34m\"\u001b[0m\u001b[38;2;248;248;242;48;2;39;40;34m:\u001b[0m\u001b[38;2;248;248;242;48;2;39;40;34m \u001b[0m\u001b[38;2;230;219;116;48;2;39;40;34m\"\u001b[0m\u001b[38;2;230;219;116;48;2;39;40;34mCarnegie Pizza\u001b[0m\u001b[38;2;230;219;116;48;2;39;40;34m\"\u001b[0m\u001b[38;2;248;248;242;48;2;39;40;34m,\u001b[0m\u001b[38;2;248;248;242;48;2;39;40;34m \u001b[0m\u001b[38;2;230;219;116;48;2;39;40;34m\"\u001b[0m\u001b[38;2;230;219;116;48;2;39;40;34mlocation\u001b[0m\u001b[38;2;230;219;116;48;2;39;40;34m\"\u001b[0m\u001b[38;2;248;248;242;48;2;39;40;34m:\u001b[0m\u001b[38;2;248;248;242;48;2;39;40;34m \u001b[0m\u001b[38;2;230;219;116;48;2;39;40;34m\"\u001b[0m\u001b[38;2;230;219;116;48;2;39;40;34m20 W 46th St, New York, NY 10036\u001b[0m\u001b[38;2;230;219;116;48;2;39;40;34m\"\u001b[0m\u001b[38;2;248;248;242;48;2;39;40;34m}\u001b[0m\u001b[38;2;248;248;242;48;2;39;40;34m,\u001b[0m\u001b[48;2;39;40;34m                                \u001b[0m  \n",
              "  \u001b[38;2;248;248;242;48;2;39;40;34m    \u001b[0m\u001b[38;2;248;248;242;48;2;39;40;34m{\u001b[0m\u001b[38;2;230;219;116;48;2;39;40;34m\"\u001b[0m\u001b[38;2;230;219;116;48;2;39;40;34mname\u001b[0m\u001b[38;2;230;219;116;48;2;39;40;34m\"\u001b[0m\u001b[38;2;248;248;242;48;2;39;40;34m:\u001b[0m\u001b[38;2;248;248;242;48;2;39;40;34m \u001b[0m\u001b[38;2;230;219;116;48;2;39;40;34m\"\u001b[0m\u001b[38;2;230;219;116;48;2;39;40;34mCarmine\u001b[0m\u001b[38;2;230;219;116;48;2;39;40;34m'\u001b[0m\u001b[38;2;230;219;116;48;2;39;40;34ms - Time Square\u001b[0m\u001b[38;2;230;219;116;48;2;39;40;34m\"\u001b[0m\u001b[38;2;248;248;242;48;2;39;40;34m,\u001b[0m\u001b[38;2;248;248;242;48;2;39;40;34m \u001b[0m\u001b[38;2;230;219;116;48;2;39;40;34m\"\u001b[0m\u001b[38;2;230;219;116;48;2;39;40;34mlocation\u001b[0m\u001b[38;2;230;219;116;48;2;39;40;34m\"\u001b[0m\u001b[38;2;248;248;242;48;2;39;40;34m:\u001b[0m\u001b[38;2;248;248;242;48;2;39;40;34m \u001b[0m\u001b[38;2;230;219;116;48;2;39;40;34m\"\u001b[0m\u001b[38;2;230;219;116;48;2;39;40;34m133 W 44th St, New York, NY 10036\u001b[0m\u001b[38;2;230;219;116;48;2;39;40;34m\"\u001b[0m\u001b[38;2;248;248;242;48;2;39;40;34m}\u001b[0m\u001b[48;2;39;40;34m                       \u001b[0m  \n",
              "  \u001b[38;2;248;248;242;48;2;39;40;34m]\u001b[0m\u001b[48;2;39;40;34m                                                                                                              \u001b[0m  \n",
              "  \u001b[48;2;39;40;34m                                                                                                               \u001b[0m  \n",
              "  \u001b[38;2;248;248;242;48;2;39;40;34mmap_url\u001b[0m\u001b[38;2;248;248;242;48;2;39;40;34m \u001b[0m\u001b[38;2;255;70;137;48;2;39;40;34m=\u001b[0m\u001b[38;2;248;248;242;48;2;39;40;34m \u001b[0m\u001b[38;2;248;248;242;48;2;39;40;34mcreate_map\u001b[0m\u001b[38;2;248;248;242;48;2;39;40;34m(\u001b[0m\u001b[38;2;248;248;242;48;2;39;40;34mlocation\u001b[0m\u001b[38;2;255;70;137;48;2;39;40;34m=\u001b[0m\u001b[38;2;230;219;116;48;2;39;40;34m\"\u001b[0m\u001b[38;2;230;219;116;48;2;39;40;34mTimes Square, New York\u001b[0m\u001b[38;2;230;219;116;48;2;39;40;34m\"\u001b[0m\u001b[38;2;248;248;242;48;2;39;40;34m,\u001b[0m\u001b[38;2;248;248;242;48;2;39;40;34m \u001b[0m\u001b[38;2;248;248;242;48;2;39;40;34mcuisine\u001b[0m\u001b[38;2;255;70;137;48;2;39;40;34m=\u001b[0m\u001b[38;2;230;219;116;48;2;39;40;34m\"\u001b[0m\u001b[38;2;230;219;116;48;2;39;40;34mpizza\u001b[0m\u001b[38;2;230;219;116;48;2;39;40;34m\"\u001b[0m\u001b[38;2;248;248;242;48;2;39;40;34m,\u001b[0m\u001b[38;2;248;248;242;48;2;39;40;34m \u001b[0m\u001b[38;2;248;248;242;48;2;39;40;34mrestaurants\u001b[0m\u001b[38;2;255;70;137;48;2;39;40;34m=\u001b[0m\u001b[38;2;248;248;242;48;2;39;40;34mrestaurants\u001b[0m\u001b[38;2;248;248;242;48;2;39;40;34m)\u001b[0m\u001b[48;2;39;40;34m              \u001b[0m  \n",
              "  \u001b[38;2;248;248;242;48;2;39;40;34mfinal_answer\u001b[0m\u001b[38;2;248;248;242;48;2;39;40;34m(\u001b[0m\u001b[38;2;248;248;242;48;2;39;40;34mmap_url\u001b[0m\u001b[38;2;248;248;242;48;2;39;40;34m)\u001b[0m\u001b[48;2;39;40;34m                                                                                          \u001b[0m  \n",
              " ───────────────────────────────────────────────────────────────────────────────────────────────────────────────── \n"
            ],
            "text/html": [
              "<pre style=\"white-space:pre;overflow-x:auto;line-height:normal;font-family:Menlo,'DejaVu Sans Mono',consolas,'Courier New',monospace\"> ─ <span style=\"font-weight: bold\">Executing parsed code:</span> ──────────────────────────────────────────────────────────────────────────────────────── \n",
              "  <span style=\"color: #f8f8f2; text-decoration-color: #f8f8f2; background-color: #272822\">restaurants </span><span style=\"color: #ff4689; text-decoration-color: #ff4689; background-color: #272822\">=</span><span style=\"color: #f8f8f2; text-decoration-color: #f8f8f2; background-color: #272822\"> [</span><span style=\"background-color: #272822\">                                                                                                </span>  \n",
              "  <span style=\"color: #f8f8f2; text-decoration-color: #f8f8f2; background-color: #272822\">    {</span><span style=\"color: #e6db74; text-decoration-color: #e6db74; background-color: #272822\">\"name\"</span><span style=\"color: #f8f8f2; text-decoration-color: #f8f8f2; background-color: #272822\">: </span><span style=\"color: #e6db74; text-decoration-color: #e6db74; background-color: #272822\">\"Emmy Squared Pizza\"</span><span style=\"color: #f8f8f2; text-decoration-color: #f8f8f2; background-color: #272822\">, </span><span style=\"color: #e6db74; text-decoration-color: #e6db74; background-color: #272822\">\"location\"</span><span style=\"color: #f8f8f2; text-decoration-color: #f8f8f2; background-color: #272822\">: </span><span style=\"color: #e6db74; text-decoration-color: #e6db74; background-color: #272822\">\"311 W 48th St, New York, NY 10023\"</span><span style=\"color: #f8f8f2; text-decoration-color: #f8f8f2; background-color: #272822\">},</span><span style=\"background-color: #272822\">                           </span>  \n",
              "  <span style=\"color: #f8f8f2; text-decoration-color: #f8f8f2; background-color: #272822\">    {</span><span style=\"color: #e6db74; text-decoration-color: #e6db74; background-color: #272822\">\"name\"</span><span style=\"color: #f8f8f2; text-decoration-color: #f8f8f2; background-color: #272822\">: </span><span style=\"color: #e6db74; text-decoration-color: #e6db74; background-color: #272822\">\"John's of Times Square\"</span><span style=\"color: #f8f8f2; text-decoration-color: #f8f8f2; background-color: #272822\">, </span><span style=\"color: #e6db74; text-decoration-color: #e6db74; background-color: #272822\">\"location\"</span><span style=\"color: #f8f8f2; text-decoration-color: #f8f8f2; background-color: #272822\">: </span><span style=\"color: #e6db74; text-decoration-color: #e6db74; background-color: #272822\">\"260 W 44th St, New York, NY 10036\"</span><span style=\"color: #f8f8f2; text-decoration-color: #f8f8f2; background-color: #272822\">},</span><span style=\"background-color: #272822\">                       </span>  \n",
              "  <span style=\"color: #f8f8f2; text-decoration-color: #f8f8f2; background-color: #272822\">    {</span><span style=\"color: #e6db74; text-decoration-color: #e6db74; background-color: #272822\">\"name\"</span><span style=\"color: #f8f8f2; text-decoration-color: #f8f8f2; background-color: #272822\">: </span><span style=\"color: #e6db74; text-decoration-color: #e6db74; background-color: #272822\">\"Patzeria Perfect Pizza\"</span><span style=\"color: #f8f8f2; text-decoration-color: #f8f8f2; background-color: #272822\">, </span><span style=\"color: #e6db74; text-decoration-color: #e6db74; background-color: #272822\">\"location\"</span><span style=\"color: #f8f8f2; text-decoration-color: #f8f8f2; background-color: #272822\">: </span><span style=\"color: #e6db74; text-decoration-color: #e6db74; background-color: #272822\">\"126 W 45th St, New York, NY 10036\"</span><span style=\"color: #f8f8f2; text-decoration-color: #f8f8f2; background-color: #272822\">},</span><span style=\"background-color: #272822\">                       </span>  \n",
              "  <span style=\"color: #f8f8f2; text-decoration-color: #f8f8f2; background-color: #272822\">    {</span><span style=\"color: #e6db74; text-decoration-color: #e6db74; background-color: #272822\">\"name\"</span><span style=\"color: #f8f8f2; text-decoration-color: #f8f8f2; background-color: #272822\">: </span><span style=\"color: #e6db74; text-decoration-color: #e6db74; background-color: #272822\">\"Carnegie Pizza\"</span><span style=\"color: #f8f8f2; text-decoration-color: #f8f8f2; background-color: #272822\">, </span><span style=\"color: #e6db74; text-decoration-color: #e6db74; background-color: #272822\">\"location\"</span><span style=\"color: #f8f8f2; text-decoration-color: #f8f8f2; background-color: #272822\">: </span><span style=\"color: #e6db74; text-decoration-color: #e6db74; background-color: #272822\">\"20 W 46th St, New York, NY 10036\"</span><span style=\"color: #f8f8f2; text-decoration-color: #f8f8f2; background-color: #272822\">},</span><span style=\"background-color: #272822\">                                </span>  \n",
              "  <span style=\"color: #f8f8f2; text-decoration-color: #f8f8f2; background-color: #272822\">    {</span><span style=\"color: #e6db74; text-decoration-color: #e6db74; background-color: #272822\">\"name\"</span><span style=\"color: #f8f8f2; text-decoration-color: #f8f8f2; background-color: #272822\">: </span><span style=\"color: #e6db74; text-decoration-color: #e6db74; background-color: #272822\">\"Carmine's - Time Square\"</span><span style=\"color: #f8f8f2; text-decoration-color: #f8f8f2; background-color: #272822\">, </span><span style=\"color: #e6db74; text-decoration-color: #e6db74; background-color: #272822\">\"location\"</span><span style=\"color: #f8f8f2; text-decoration-color: #f8f8f2; background-color: #272822\">: </span><span style=\"color: #e6db74; text-decoration-color: #e6db74; background-color: #272822\">\"133 W 44th St, New York, NY 10036\"</span><span style=\"color: #f8f8f2; text-decoration-color: #f8f8f2; background-color: #272822\">}</span><span style=\"background-color: #272822\">                       </span>  \n",
              "  <span style=\"color: #f8f8f2; text-decoration-color: #f8f8f2; background-color: #272822\">]</span><span style=\"background-color: #272822\">                                                                                                              </span>  \n",
              "  <span style=\"background-color: #272822\">                                                                                                               </span>  \n",
              "  <span style=\"color: #f8f8f2; text-decoration-color: #f8f8f2; background-color: #272822\">map_url </span><span style=\"color: #ff4689; text-decoration-color: #ff4689; background-color: #272822\">=</span><span style=\"color: #f8f8f2; text-decoration-color: #f8f8f2; background-color: #272822\"> create_map(location</span><span style=\"color: #ff4689; text-decoration-color: #ff4689; background-color: #272822\">=</span><span style=\"color: #e6db74; text-decoration-color: #e6db74; background-color: #272822\">\"Times Square, New York\"</span><span style=\"color: #f8f8f2; text-decoration-color: #f8f8f2; background-color: #272822\">, cuisine</span><span style=\"color: #ff4689; text-decoration-color: #ff4689; background-color: #272822\">=</span><span style=\"color: #e6db74; text-decoration-color: #e6db74; background-color: #272822\">\"pizza\"</span><span style=\"color: #f8f8f2; text-decoration-color: #f8f8f2; background-color: #272822\">, restaurants</span><span style=\"color: #ff4689; text-decoration-color: #ff4689; background-color: #272822\">=</span><span style=\"color: #f8f8f2; text-decoration-color: #f8f8f2; background-color: #272822\">restaurants)</span><span style=\"background-color: #272822\">              </span>  \n",
              "  <span style=\"color: #f8f8f2; text-decoration-color: #f8f8f2; background-color: #272822\">final_answer(map_url)</span><span style=\"background-color: #272822\">                                                                                          </span>  \n",
              " ───────────────────────────────────────────────────────────────────────────────────────────────────────────────── \n",
              "</pre>\n"
            ]
          },
          "metadata": {}
        },
        {
          "output_type": "stream",
          "name": "stdout",
          "text": [
            "Creating map for location: Times Square, New York with cuisine: pizza\n",
            "Restaurants data: [{'name': 'Emmy Squared Pizza', 'location': '311 W 48th St, New York, NY 10023'}, {'name': \"John's of Times Square\", 'location': '260 W 44th St, New York, NY 10036'}, {'name': 'Patzeria Perfect Pizza', 'location': '126 W 45th St, New York, NY 10036'}, {'name': 'Carnegie Pizza', 'location': '20 W 46th St, New York, NY 10036'}, {'name': \"Carmine's - Time Square\", 'location': '133 W 44th St, New York, NY 10036'}]\n",
            "Map saved to map.html\n"
          ]
        },
        {
          "output_type": "display_data",
          "data": {
            "text/plain": [
              "\u001b[1;38;2;212;183;2mOut - Final answer: Map saved to map.html\u001b[0m\n"
            ],
            "text/html": [
              "<pre style=\"white-space:pre;overflow-x:auto;line-height:normal;font-family:Menlo,'DejaVu Sans Mono',consolas,'Courier New',monospace\"><span style=\"color: #d4b702; text-decoration-color: #d4b702; font-weight: bold\">Out - Final answer: Map saved to map.html</span>\n",
              "</pre>\n"
            ]
          },
          "metadata": {}
        },
        {
          "output_type": "display_data",
          "data": {
            "text/plain": [
              "\u001b[2m[Step 4: Duration 27.95 seconds| Input tokens: 14,185 | Output tokens: 771]\u001b[0m\n"
            ],
            "text/html": [
              "<pre style=\"white-space:pre;overflow-x:auto;line-height:normal;font-family:Menlo,'DejaVu Sans Mono',consolas,'Courier New',monospace\"><span style=\"color: #7f7f7f; text-decoration-color: #7f7f7f\">[Step 4: Duration 27.95 seconds| Input tokens: 14,185 | Output tokens: 771]</span>\n",
              "</pre>\n"
            ]
          },
          "metadata": {}
        },
        {
          "output_type": "execute_result",
          "data": {
            "text/plain": [
              "'Map saved to map.html'"
            ],
            "application/vnd.google.colaboratory.intrinsic+json": {
              "type": "string"
            }
          },
          "metadata": {},
          "execution_count": 12
        }
      ]
    },
    {
      "cell_type": "markdown",
      "source": [
        "* **My prompt**: \"I am at times square, new york. Get me famous pizza restaurants and generate a map.\"\n",
        "* Based on the logs: AI agent used duck duck go to search web for the top pizza restaurants that are near times square, New york and was able to plot the map with routes successfully."
      ],
      "metadata": {
        "id": "Pn7qo4nesZId"
      }
    },
    {
      "cell_type": "markdown",
      "source": [
        "**Result**"
      ],
      "metadata": {
        "id": "dlQ9i3_yt2V-"
      }
    },
    {
      "cell_type": "code",
      "source": [
        "from IPython.display import display, HTML\n",
        "\n",
        "# Assuming you have already generated the map and saved it as \"map.html\"\n",
        "# Read the HTML file\n",
        "with open('map.html', 'r') as file:\n",
        "    map_html = file.read()\n",
        "\n",
        "# Display the HTML content\n",
        "display(HTML(map_html))"
      ],
      "metadata": {
        "colab": {
          "base_uri": "https://localhost:8080/",
          "height": 865
        },
        "id": "OaOs5L2Agot6",
        "outputId": "4daf7b92-07d8-49d9-cc62-9e34442d7a0c"
      },
      "execution_count": 13,
      "outputs": [
        {
          "output_type": "display_data",
          "data": {
            "text/plain": [
              "<IPython.core.display.HTML object>"
            ],
            "text/html": [
              "<div style=\"width:100%;\"><div style=\"position:relative;width:100%;height:0;padding-bottom:60%;\"><span style=\"color:#565656\">Make this Notebook Trusted to load map: File -> Trust Notebook</span><iframe srcdoc=\"&lt;!DOCTYPE html&gt;\n",
              "&lt;html&gt;\n",
              "&lt;head&gt;\n",
              "    \n",
              "    &lt;meta http-equiv=&quot;content-type&quot; content=&quot;text/html; charset=UTF-8&quot; /&gt;\n",
              "    \n",
              "        &lt;script&gt;\n",
              "            L_NO_TOUCH = false;\n",
              "            L_DISABLE_3D = false;\n",
              "        &lt;/script&gt;\n",
              "    \n",
              "    &lt;style&gt;html, body {width: 100%;height: 100%;margin: 0;padding: 0;}&lt;/style&gt;\n",
              "    &lt;style&gt;#map {position:absolute;top:0;bottom:0;right:0;left:0;}&lt;/style&gt;\n",
              "    &lt;script src=&quot;https://cdn.jsdelivr.net/npm/leaflet@1.9.3/dist/leaflet.js&quot;&gt;&lt;/script&gt;\n",
              "    &lt;script src=&quot;https://code.jquery.com/jquery-3.7.1.min.js&quot;&gt;&lt;/script&gt;\n",
              "    &lt;script src=&quot;https://cdn.jsdelivr.net/npm/bootstrap@5.2.2/dist/js/bootstrap.bundle.min.js&quot;&gt;&lt;/script&gt;\n",
              "    &lt;script src=&quot;https://cdnjs.cloudflare.com/ajax/libs/Leaflet.awesome-markers/2.0.2/leaflet.awesome-markers.js&quot;&gt;&lt;/script&gt;\n",
              "    &lt;link rel=&quot;stylesheet&quot; href=&quot;https://cdn.jsdelivr.net/npm/leaflet@1.9.3/dist/leaflet.css&quot;/&gt;\n",
              "    &lt;link rel=&quot;stylesheet&quot; href=&quot;https://cdn.jsdelivr.net/npm/bootstrap@5.2.2/dist/css/bootstrap.min.css&quot;/&gt;\n",
              "    &lt;link rel=&quot;stylesheet&quot; href=&quot;https://netdna.bootstrapcdn.com/bootstrap/3.0.0/css/bootstrap-glyphicons.css&quot;/&gt;\n",
              "    &lt;link rel=&quot;stylesheet&quot; href=&quot;https://cdn.jsdelivr.net/npm/@fortawesome/fontawesome-free@6.2.0/css/all.min.css&quot;/&gt;\n",
              "    &lt;link rel=&quot;stylesheet&quot; href=&quot;https://cdnjs.cloudflare.com/ajax/libs/Leaflet.awesome-markers/2.0.2/leaflet.awesome-markers.css&quot;/&gt;\n",
              "    &lt;link rel=&quot;stylesheet&quot; href=&quot;https://cdn.jsdelivr.net/gh/python-visualization/folium/folium/templates/leaflet.awesome.rotate.min.css&quot;/&gt;\n",
              "    \n",
              "            &lt;meta name=&quot;viewport&quot; content=&quot;width=device-width,\n",
              "                initial-scale=1.0, maximum-scale=1.0, user-scalable=no&quot; /&gt;\n",
              "            &lt;style&gt;\n",
              "                #map_cd454dd9364d8c5b517ca86b7a32eb80 {\n",
              "                    position: relative;\n",
              "                    width: 100.0%;\n",
              "                    height: 100.0%;\n",
              "                    left: 0.0%;\n",
              "                    top: 0.0%;\n",
              "                }\n",
              "                .leaflet-container { font-size: 1rem; }\n",
              "            &lt;/style&gt;\n",
              "        \n",
              "&lt;/head&gt;\n",
              "&lt;body&gt;\n",
              "    \n",
              "    \n",
              "            &lt;div class=&quot;folium-map&quot; id=&quot;map_cd454dd9364d8c5b517ca86b7a32eb80&quot; &gt;&lt;/div&gt;\n",
              "        \n",
              "&lt;/body&gt;\n",
              "&lt;script&gt;\n",
              "    \n",
              "    \n",
              "            var map_cd454dd9364d8c5b517ca86b7a32eb80 = L.map(\n",
              "                &quot;map_cd454dd9364d8c5b517ca86b7a32eb80&quot;,\n",
              "                {\n",
              "                    center: [40.75701215, -73.98597092538824],\n",
              "                    crs: L.CRS.EPSG3857,\n",
              "                    ...{\n",
              "  &quot;zoom&quot;: 15,\n",
              "  &quot;zoomControl&quot;: true,\n",
              "  &quot;preferCanvas&quot;: false,\n",
              "}\n",
              "\n",
              "                }\n",
              "            );\n",
              "\n",
              "            \n",
              "\n",
              "        \n",
              "    \n",
              "            var tile_layer_afcb88674d58a3452447e5979a26dd1a = L.tileLayer(\n",
              "                &quot;https://tile.openstreetmap.org/{z}/{x}/{y}.png&quot;,\n",
              "                {\n",
              "  &quot;minZoom&quot;: 0,\n",
              "  &quot;maxZoom&quot;: 19,\n",
              "  &quot;maxNativeZoom&quot;: 19,\n",
              "  &quot;noWrap&quot;: false,\n",
              "  &quot;attribution&quot;: &quot;\\u0026copy; \\u003ca href=\\&quot;https://www.openstreetmap.org/copyright\\&quot;\\u003eOpenStreetMap\\u003c/a\\u003e contributors&quot;,\n",
              "  &quot;subdomains&quot;: &quot;abc&quot;,\n",
              "  &quot;detectRetina&quot;: false,\n",
              "  &quot;tms&quot;: false,\n",
              "  &quot;opacity&quot;: 1,\n",
              "}\n",
              "\n",
              "            );\n",
              "        \n",
              "    \n",
              "            tile_layer_afcb88674d58a3452447e5979a26dd1a.addTo(map_cd454dd9364d8c5b517ca86b7a32eb80);\n",
              "        \n",
              "    \n",
              "            var marker_3feb6084cc549ccb1633462dfa577fa0 = L.marker(\n",
              "                [40.75701215, -73.98597092538824],\n",
              "                {\n",
              "}\n",
              "            ).addTo(map_cd454dd9364d8c5b517ca86b7a32eb80);\n",
              "        \n",
              "    \n",
              "            var icon_c72ee38cf033928d4872c0e0262d683a = L.AwesomeMarkers.icon(\n",
              "                {\n",
              "  &quot;markerColor&quot;: &quot;red&quot;,\n",
              "  &quot;iconColor&quot;: &quot;white&quot;,\n",
              "  &quot;icon&quot;: &quot;info-sign&quot;,\n",
              "  &quot;prefix&quot;: &quot;glyphicon&quot;,\n",
              "  &quot;extraClasses&quot;: &quot;fa-rotate-0&quot;,\n",
              "}\n",
              "            );\n",
              "            marker_3feb6084cc549ccb1633462dfa577fa0.setIcon(icon_c72ee38cf033928d4872c0e0262d683a);\n",
              "        \n",
              "    \n",
              "            marker_3feb6084cc549ccb1633462dfa577fa0.bindTooltip(\n",
              "                `&lt;div&gt;\n",
              "                     Times Square, New York\n",
              "                 &lt;/div&gt;`,\n",
              "                {\n",
              "  &quot;sticky&quot;: true,\n",
              "}\n",
              "            );\n",
              "        \n",
              "    \n",
              "            var marker_7fabe105a691d76803ca701aa0289bef = L.marker(\n",
              "                [40.761482150000006, -73.98756399166246],\n",
              "                {\n",
              "}\n",
              "            ).addTo(map_cd454dd9364d8c5b517ca86b7a32eb80);\n",
              "        \n",
              "    \n",
              "            var icon_97d1e9f9c0c5b39a3ad82cad8e19e560 = L.AwesomeMarkers.icon(\n",
              "                {\n",
              "  &quot;markerColor&quot;: &quot;blue&quot;,\n",
              "  &quot;iconColor&quot;: &quot;white&quot;,\n",
              "  &quot;icon&quot;: &quot;info-sign&quot;,\n",
              "  &quot;prefix&quot;: &quot;glyphicon&quot;,\n",
              "  &quot;extraClasses&quot;: &quot;fa-rotate-0&quot;,\n",
              "}\n",
              "            );\n",
              "            marker_7fabe105a691d76803ca701aa0289bef.setIcon(icon_97d1e9f9c0c5b39a3ad82cad8e19e560);\n",
              "        \n",
              "    \n",
              "            marker_7fabe105a691d76803ca701aa0289bef.bindTooltip(\n",
              "                `&lt;div&gt;\n",
              "                     Emmy Squared Pizza\n",
              "                 &lt;/div&gt;`,\n",
              "                {\n",
              "  &quot;sticky&quot;: true,\n",
              "}\n",
              "            );\n",
              "        \n",
              "    \n",
              "\n",
              "        function geo_json_af4e99c497a79a0eababba16821221c0_onEachFeature(feature, layer) {\n",
              "            layer.on({\n",
              "            });\n",
              "        };\n",
              "        var geo_json_af4e99c497a79a0eababba16821221c0 = L.geoJson(null, {\n",
              "                onEachFeature: geo_json_af4e99c497a79a0eababba16821221c0_onEachFeature,\n",
              "            \n",
              "            ...{\n",
              "}\n",
              "        });\n",
              "\n",
              "        function geo_json_af4e99c497a79a0eababba16821221c0_add (data) {\n",
              "            geo_json_af4e99c497a79a0eababba16821221c0\n",
              "                .addData(data);\n",
              "        }\n",
              "            geo_json_af4e99c497a79a0eababba16821221c0_add({&quot;coordinates&quot;: [[-73.985964, 40.75701], [-73.985869, 40.757201], [-73.985829, 40.757266], [-73.985792, 40.757327], [-73.985451, 40.757847], [-73.985435, 40.757867], [-73.985417, 40.757914], [-73.985399, 40.75796], [-73.985391, 40.757971], [-73.985378, 40.757989], [-73.985408, 40.758002], [-73.985482, 40.758036], [-73.985578, 40.758079], [-73.98562, 40.758092], [-73.985647, 40.7581], [-73.985678, 40.75811], [-73.985462, 40.758671], [-73.985454, 40.758692], [-73.985435, 40.758743], [-73.985417, 40.758791], [-73.985413, 40.758804], [-73.985228, 40.7594], [-73.985224, 40.759415], [-73.985207, 40.759466], [-73.985191, 40.75951], [-73.985187, 40.759524], [-73.984976, 40.760079], [-73.984968, 40.760097], [-73.984959, 40.76012], [-73.984943, 40.760165], [-73.984923, 40.760218], [-73.984917, 40.760235], [-73.985356, 40.760429], [-73.986834, 40.761051], [-73.986968, 40.761105], [-73.987117, 40.761159], [-73.98764, 40.761379]], &quot;type&quot;: &quot;LineString&quot;});\n",
              "        geo_json_af4e99c497a79a0eababba16821221c0.setStyle(function(feature) {return feature.properties.style;});\n",
              "\n",
              "        \n",
              "    \n",
              "            geo_json_af4e99c497a79a0eababba16821221c0.addTo(map_cd454dd9364d8c5b517ca86b7a32eb80);\n",
              "        \n",
              "    \n",
              "            var marker_682539a14d25a6fa6fa2f27a1c3257f3 = L.marker(\n",
              "                [40.7582345, -73.9884017],\n",
              "                {\n",
              "}\n",
              "            ).addTo(map_cd454dd9364d8c5b517ca86b7a32eb80);\n",
              "        \n",
              "    \n",
              "            var icon_b3037118288bcec9a23293e14d1afa04 = L.AwesomeMarkers.icon(\n",
              "                {\n",
              "  &quot;markerColor&quot;: &quot;blue&quot;,\n",
              "  &quot;iconColor&quot;: &quot;white&quot;,\n",
              "  &quot;icon&quot;: &quot;info-sign&quot;,\n",
              "  &quot;prefix&quot;: &quot;glyphicon&quot;,\n",
              "  &quot;extraClasses&quot;: &quot;fa-rotate-0&quot;,\n",
              "}\n",
              "            );\n",
              "            marker_682539a14d25a6fa6fa2f27a1c3257f3.setIcon(icon_b3037118288bcec9a23293e14d1afa04);\n",
              "        \n",
              "    \n",
              "            marker_682539a14d25a6fa6fa2f27a1c3257f3.bindTooltip(\n",
              "                `&lt;div&gt;\n",
              "                     John&#x27;s of Times Square\n",
              "                 &lt;/div&gt;`,\n",
              "                {\n",
              "  &quot;sticky&quot;: true,\n",
              "}\n",
              "            );\n",
              "        \n",
              "    \n",
              "\n",
              "        function geo_json_5f98f43427eff2139cf61aae8b227966_onEachFeature(feature, layer) {\n",
              "            layer.on({\n",
              "            });\n",
              "        };\n",
              "        var geo_json_5f98f43427eff2139cf61aae8b227966 = L.geoJson(null, {\n",
              "                onEachFeature: geo_json_5f98f43427eff2139cf61aae8b227966_onEachFeature,\n",
              "            \n",
              "            ...{\n",
              "}\n",
              "        });\n",
              "\n",
              "        function geo_json_5f98f43427eff2139cf61aae8b227966_add (data) {\n",
              "            geo_json_5f98f43427eff2139cf61aae8b227966\n",
              "                .addData(data);\n",
              "        }\n",
              "            geo_json_5f98f43427eff2139cf61aae8b227966_add({&quot;coordinates&quot;: [[-73.985964, 40.75701], [-73.985869, 40.757201], [-73.985909, 40.757217], [-73.985958, 40.757236], [-73.985966, 40.75724], [-73.986056, 40.757279], [-73.986106, 40.757302], [-73.986146, 40.757324], [-73.986198, 40.757353], [-73.988376, 40.758269]], &quot;type&quot;: &quot;LineString&quot;});\n",
              "        geo_json_5f98f43427eff2139cf61aae8b227966.setStyle(function(feature) {return feature.properties.style;});\n",
              "\n",
              "        \n",
              "    \n",
              "            geo_json_5f98f43427eff2139cf61aae8b227966.addTo(map_cd454dd9364d8c5b517ca86b7a32eb80);\n",
              "        \n",
              "    \n",
              "            var marker_b5f5334b23503d1aea38d506ae18d94a = L.marker(\n",
              "                [40.75704473469388, -73.98358485714286],\n",
              "                {\n",
              "}\n",
              "            ).addTo(map_cd454dd9364d8c5b517ca86b7a32eb80);\n",
              "        \n",
              "    \n",
              "            var icon_c14f13e3ff70d7ddbb2652b870abe36c = L.AwesomeMarkers.icon(\n",
              "                {\n",
              "  &quot;markerColor&quot;: &quot;blue&quot;,\n",
              "  &quot;iconColor&quot;: &quot;white&quot;,\n",
              "  &quot;icon&quot;: &quot;info-sign&quot;,\n",
              "  &quot;prefix&quot;: &quot;glyphicon&quot;,\n",
              "  &quot;extraClasses&quot;: &quot;fa-rotate-0&quot;,\n",
              "}\n",
              "            );\n",
              "            marker_b5f5334b23503d1aea38d506ae18d94a.setIcon(icon_c14f13e3ff70d7ddbb2652b870abe36c);\n",
              "        \n",
              "    \n",
              "            marker_b5f5334b23503d1aea38d506ae18d94a.bindTooltip(\n",
              "                `&lt;div&gt;\n",
              "                     Patzeria Perfect Pizza\n",
              "                 &lt;/div&gt;`,\n",
              "                {\n",
              "  &quot;sticky&quot;: true,\n",
              "}\n",
              "            );\n",
              "        \n",
              "    \n",
              "\n",
              "        function geo_json_a4a74ccf3af8b99ed4b329cdb3de946f_onEachFeature(feature, layer) {\n",
              "            layer.on({\n",
              "            });\n",
              "        };\n",
              "        var geo_json_a4a74ccf3af8b99ed4b329cdb3de946f = L.geoJson(null, {\n",
              "                onEachFeature: geo_json_a4a74ccf3af8b99ed4b329cdb3de946f_onEachFeature,\n",
              "            \n",
              "            ...{\n",
              "}\n",
              "        });\n",
              "\n",
              "        function geo_json_a4a74ccf3af8b99ed4b329cdb3de946f_add (data) {\n",
              "            geo_json_a4a74ccf3af8b99ed4b329cdb3de946f\n",
              "                .addData(data);\n",
              "        }\n",
              "            geo_json_a4a74ccf3af8b99ed4b329cdb3de946f_add({&quot;coordinates&quot;: [[-73.985964, 40.75701], [-73.985869, 40.757201], [-73.985829, 40.757266], [-73.985792, 40.757327], [-73.985451, 40.757847], [-73.985401, 40.757827], [-73.983574, 40.757059]], &quot;type&quot;: &quot;LineString&quot;});\n",
              "        geo_json_a4a74ccf3af8b99ed4b329cdb3de946f.setStyle(function(feature) {return feature.properties.style;});\n",
              "\n",
              "        \n",
              "    \n",
              "            geo_json_a4a74ccf3af8b99ed4b329cdb3de946f.addTo(map_cd454dd9364d8c5b517ca86b7a32eb80);\n",
              "        \n",
              "    \n",
              "            var marker_5c3fc9bcdf9cdaefb6d1f08c32f7a4e5 = L.marker(\n",
              "                [40.756328749999994, -73.9803339324252],\n",
              "                {\n",
              "}\n",
              "            ).addTo(map_cd454dd9364d8c5b517ca86b7a32eb80);\n",
              "        \n",
              "    \n",
              "            var icon_025371e945295fdd63c0a056cf10012c = L.AwesomeMarkers.icon(\n",
              "                {\n",
              "  &quot;markerColor&quot;: &quot;blue&quot;,\n",
              "  &quot;iconColor&quot;: &quot;white&quot;,\n",
              "  &quot;icon&quot;: &quot;info-sign&quot;,\n",
              "  &quot;prefix&quot;: &quot;glyphicon&quot;,\n",
              "  &quot;extraClasses&quot;: &quot;fa-rotate-0&quot;,\n",
              "}\n",
              "            );\n",
              "            marker_5c3fc9bcdf9cdaefb6d1f08c32f7a4e5.setIcon(icon_025371e945295fdd63c0a056cf10012c);\n",
              "        \n",
              "    \n",
              "            marker_5c3fc9bcdf9cdaefb6d1f08c32f7a4e5.bindTooltip(\n",
              "                `&lt;div&gt;\n",
              "                     Carnegie Pizza\n",
              "                 &lt;/div&gt;`,\n",
              "                {\n",
              "  &quot;sticky&quot;: true,\n",
              "}\n",
              "            );\n",
              "        \n",
              "    \n",
              "\n",
              "        function geo_json_66b5fb5828e642034f5942c36e13c3db_onEachFeature(feature, layer) {\n",
              "            layer.on({\n",
              "            });\n",
              "        };\n",
              "        var geo_json_66b5fb5828e642034f5942c36e13c3db = L.geoJson(null, {\n",
              "                onEachFeature: geo_json_66b5fb5828e642034f5942c36e13c3db_onEachFeature,\n",
              "            \n",
              "            ...{\n",
              "}\n",
              "        });\n",
              "\n",
              "        function geo_json_66b5fb5828e642034f5942c36e13c3db_add (data) {\n",
              "            geo_json_66b5fb5828e642034f5942c36e13c3db\n",
              "                .addData(data);\n",
              "        }\n",
              "            geo_json_66b5fb5828e642034f5942c36e13c3db_add({&quot;coordinates&quot;: [[-73.985964, 40.75701], [-73.985869, 40.757201], [-73.985759, 40.757158], [-73.985722, 40.757144], [-73.984083, 40.756453], [-73.983339, 40.756138], [-73.983208, 40.756086], [-73.983076, 40.756033], [-73.983037, 40.756087], [-73.983, 40.75614], [-73.982619, 40.756652], [-73.982573, 40.756714], [-73.982532, 40.756769], [-73.982173, 40.757266], [-73.981526, 40.757002], [-73.980236, 40.756462]], &quot;type&quot;: &quot;LineString&quot;});\n",
              "        geo_json_66b5fb5828e642034f5942c36e13c3db.setStyle(function(feature) {return feature.properties.style;});\n",
              "\n",
              "        \n",
              "    \n",
              "            geo_json_66b5fb5828e642034f5942c36e13c3db.addTo(map_cd454dd9364d8c5b517ca86b7a32eb80);\n",
              "        \n",
              "    \n",
              "            var marker_0bd53d749cfcf97616225dc90b34dc54 = L.marker(\n",
              "                [40.7568738, -73.98439672942493],\n",
              "                {\n",
              "}\n",
              "            ).addTo(map_cd454dd9364d8c5b517ca86b7a32eb80);\n",
              "        \n",
              "    \n",
              "            var icon_dd2caac4e431bdc3969c8f85ea5304d6 = L.AwesomeMarkers.icon(\n",
              "                {\n",
              "  &quot;markerColor&quot;: &quot;blue&quot;,\n",
              "  &quot;iconColor&quot;: &quot;white&quot;,\n",
              "  &quot;icon&quot;: &quot;info-sign&quot;,\n",
              "  &quot;prefix&quot;: &quot;glyphicon&quot;,\n",
              "  &quot;extraClasses&quot;: &quot;fa-rotate-0&quot;,\n",
              "}\n",
              "            );\n",
              "            marker_0bd53d749cfcf97616225dc90b34dc54.setIcon(icon_dd2caac4e431bdc3969c8f85ea5304d6);\n",
              "        \n",
              "    \n",
              "            marker_0bd53d749cfcf97616225dc90b34dc54.bindTooltip(\n",
              "                `&lt;div&gt;\n",
              "                     Carmine&#x27;s - Time Square\n",
              "                 &lt;/div&gt;`,\n",
              "                {\n",
              "  &quot;sticky&quot;: true,\n",
              "}\n",
              "            );\n",
              "        \n",
              "    \n",
              "\n",
              "        function geo_json_c74747547268c7968239c027beebcb21_onEachFeature(feature, layer) {\n",
              "            layer.on({\n",
              "            });\n",
              "        };\n",
              "        var geo_json_c74747547268c7968239c027beebcb21 = L.geoJson(null, {\n",
              "                onEachFeature: geo_json_c74747547268c7968239c027beebcb21_onEachFeature,\n",
              "            \n",
              "            ...{\n",
              "}\n",
              "        });\n",
              "\n",
              "        function geo_json_c74747547268c7968239c027beebcb21_add (data) {\n",
              "            geo_json_c74747547268c7968239c027beebcb21\n",
              "                .addData(data);\n",
              "        }\n",
              "            geo_json_c74747547268c7968239c027beebcb21_add({&quot;coordinates&quot;: [[-73.985964, 40.75701], [-73.985869, 40.757201], [-73.985829, 40.757266], [-73.985792, 40.757327], [-73.985697, 40.757286], [-73.98566, 40.75727], [-73.984473, 40.75677]], &quot;type&quot;: &quot;LineString&quot;});\n",
              "        geo_json_c74747547268c7968239c027beebcb21.setStyle(function(feature) {return feature.properties.style;});\n",
              "\n",
              "        \n",
              "    \n",
              "            geo_json_c74747547268c7968239c027beebcb21.addTo(map_cd454dd9364d8c5b517ca86b7a32eb80);\n",
              "        \n",
              "&lt;/script&gt;\n",
              "&lt;/html&gt;\" style=\"position:absolute;width:100%;height:100%;left:0;top:0;border:none !important;\" allowfullscreen webkitallowfullscreen mozallowfullscreen></iframe></div></div>"
            ]
          },
          "metadata": {}
        }
      ]
    },
    {
      "cell_type": "markdown",
      "source": [
        "Red marker indicates the origin and blue markers depict the 5 pizza restaurants and the routes plotted from the orign."
      ],
      "metadata": {
        "id": "QCi3VBfuu5Jo"
      }
    },
    {
      "cell_type": "markdown",
      "source": [
        "**Conclusion**\n",
        "*   AI agent was able to complete the task successfully by thinking meticulously before acting and completing the task immaculately, achieveing the goal.\n",
        "\n",
        "\n"
      ],
      "metadata": {
        "id": "IbOypL04uNBz"
      }
    },
    {
      "cell_type": "code",
      "source": [],
      "metadata": {
        "id": "DTyDoKMogoxY"
      },
      "execution_count": null,
      "outputs": []
    },
    {
      "cell_type": "code",
      "source": [],
      "metadata": {
        "id": "rZXl8LV3go0p"
      },
      "execution_count": null,
      "outputs": []
    },
    {
      "cell_type": "code",
      "source": [],
      "metadata": {
        "id": "D1rKflcxgo3w"
      },
      "execution_count": null,
      "outputs": []
    },
    {
      "cell_type": "code",
      "source": [],
      "metadata": {
        "id": "qDWKCYD9go7I"
      },
      "execution_count": null,
      "outputs": []
    },
    {
      "cell_type": "code",
      "source": [],
      "metadata": {
        "id": "JkkDLOlggo-Z"
      },
      "execution_count": null,
      "outputs": []
    },
    {
      "cell_type": "code",
      "source": [],
      "metadata": {
        "id": "r52hrzXDgpBg"
      },
      "execution_count": null,
      "outputs": []
    },
    {
      "cell_type": "code",
      "source": [],
      "metadata": {
        "id": "iZqjHrhwgpEo"
      },
      "execution_count": null,
      "outputs": []
    }
  ]
}